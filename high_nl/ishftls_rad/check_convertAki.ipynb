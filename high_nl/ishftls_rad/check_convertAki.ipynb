{
 "cells": [
  {
   "cell_type": "code",
   "execution_count": 2,
   "metadata": {},
   "outputs": [],
   "source": [
    "import numpy as np"
   ]
  },
  {
   "cell_type": "code",
   "execution_count": 3,
   "metadata": {},
   "outputs": [],
   "source": [
    "IP=13.6056923           # eV/ry\n",
    "a0=5.29177E-11          # m\n",
    "h=4.135667731E-15       # eV*s\n",
    "h_J=6.62607E-34         # J*s\n",
    "c=299792458             # m/s\n",
    "hc=h*c                  # eV*m\n",
    "me=9.10938E-11          # kg\n",
    "e=1.60218E-19           # C\n",
    "eps0=8.8541878128E-12   # F/m and F= C^2 J^-1 m^-1 \n",
    "convJ2eV=6.24E+18       # eV/J\n",
    "convm2A=1.0E+10         # Angstrom\n",
    "convm2nm=1.0E+9         # nm\n",
    "convEh2J=4.35974417E-18 # J/a.u. (hartree)\n",
    "convry2J=convEh2J/2     # J/ry"
   ]
  },
  {
   "cell_type": "code",
   "execution_count": null,
   "metadata": {},
   "outputs": [],
   "source": []
  },
  {
   "cell_type": "code",
   "execution_count": null,
   "metadata": {},
   "outputs": [],
   "source": []
  },
  {
   "cell_type": "markdown",
   "metadata": {},
   "source": [
    "# Transform $A_{ki}$ to $f_{ki}$ using the relation:\n",
    "\n",
    "$$A_{ki}=\\frac{2\\pi e^2}{m_ec\\epsilon_0} \\frac{1}{\\lambda^2}\\frac{g_i}{g_k}f_{ik} \\quad\\Rightarrow\\quad f_{ik}=\\frac{m_ec\\epsilon_0}{2\\pi e^2}\\lambda^2 \\frac{g_k}{g_i}A_{ki}$$"
   ]
  },
  {
   "cell_type": "code",
   "execution_count": 4,
   "metadata": {},
   "outputs": [],
   "source": [
    "ctef2A=2*np.pi*e**2/(me*c*eps0)*1.0E20\n",
    "cteA2f=1/ctef2A"
   ]
  },
  {
   "cell_type": "code",
   "execution_count": null,
   "metadata": {},
   "outputs": [],
   "source": []
  },
  {
   "cell_type": "markdown",
   "metadata": {},
   "source": [
    "# From NIST:"
   ]
  },
  {
   "cell_type": "code",
   "execution_count": 5,
   "metadata": {},
   "outputs": [],
   "source": [
    "# ----------------------------------------------------------------------------------------------------------\n",
    "# Wavelength |   Aki    |   fik    |    S     |     Ei     |    Ek      |    Lower level  |   Upper level   \n",
    "#    (A)     |  (s^-1)  |          |  (a.u.)  |    (Ry)    |   (Ry)     |-----------------|-----------------\n",
    "#            |          |          |          |            |            | Conf | Term | J | Conf | Term | J \n",
    "# ----------------------------------------------------------------------------------------------------------\n",
    "#  2852.127  | 4.91e+08 | 1.80e+00 | 1.69e+01 | 0.00000000 | 0.31941062 | 3s2  | 1S   | 0 | 3s3p | 1P*  | 1 "
   ]
  },
  {
   "cell_type": "code",
   "execution_count": 6,
   "metadata": {},
   "outputs": [
    {
     "name": "stdout",
     "output_type": "stream",
     "text": [
      "lam = 2.8530e-07 m\n",
      "lam = 2852.9644 A\n",
      "fik = 1.80\n",
      "  S = 1.69e+01 a.u.\n",
      "  S = 1.22e-77 m^2 C^2\n"
     ]
    }
   ],
   "source": [
    "Aki_nist=4.91e+08\n",
    "fik_nist=1.80e+00\n",
    "Sau_nist=1.69e+01\n",
    "\n",
    "gi=1\n",
    "gk=3\n",
    "Ei=0.0\n",
    "Ek=0.31941062\n",
    "Eki=Ek-Ei               # ry\n",
    "lam=hc/(Eki*IP)         # eV*m/eV = m\n",
    "lamAng=lam*convm2A\n",
    "fik=cteA2f*lam**2*gk/gi*Aki_nist\n",
    "Sau=3*gi*fik_nist/Eki\n",
    "S_m2C2=3*h_J*e**2/(8*np.pi**2*me*c)*lam*gi*fik_nist\n",
    "\n",
    "print('lam = {:.4e} m'.format(lam))\n",
    "print('lam = {:.4f} A'.format(lamAng))\n",
    "print('fik = {:.2f}'.format(fik))\n",
    "print('  S = {:.2e} a.u.'.format(Sau))\n",
    "print('  S = {:.2e} m^2 C^2'.format(S_m2C2))"
   ]
  },
  {
   "cell_type": "code",
   "execution_count": 7,
   "metadata": {},
   "outputs": [],
   "source": [
    "# ----------------------------------------------------------------------------------------------------------\n",
    "# Wavelength |   Aki    |   fik    |    S     |     Ei     |    Ek      |    Lower level  |   Upper level   \n",
    "#    (A)     |  (s^-1)  |          |  (a.u.)  |    (Ry)    |   (Ry)     |-----------------|-----------------\n",
    "#            |          |          |          |            |            | Conf | Term | J | Conf | Term | J \n",
    "# ----------------------------------------------------------------------------------------------------------\n",
    "#  4571.0956 | 2.54e+02 | 2.38e-06 | 3.59e-05 | 0.00000000 | 0.19929833 | 3s2  | 1S   | 0 | 3s3p | 3P*  | 1"
   ]
  },
  {
   "cell_type": "code",
   "execution_count": 8,
   "metadata": {},
   "outputs": [
    {
     "name": "stdout",
     "output_type": "stream",
     "text": [
      "lam = 4.5724e-07 m\n",
      "lam = 4572.3771 A\n",
      "fik = 2.39e-06\n",
      "  S = 3.58e-05 a.u.\n",
      "  S = 2.58e-83 m^2 C^2\n"
     ]
    }
   ],
   "source": [
    "Aki_nist=2.54e+02\n",
    "fik_nist=2.38e-06\n",
    "Sau_nist=3.59e-05\n",
    "\n",
    "gi=1\n",
    "gk=3\n",
    "Ei=0.0\n",
    "Ek=0.19929833\n",
    "Eki=Ek-Ei               # ry\n",
    "lam=hc/(Eki*IP)         # eV*m/eV = m\n",
    "lamAng=lam*convm2A\n",
    "fik=cteA2f*lam**2*gk/gi*Aki_nist\n",
    "Sau=3*gi*fik_nist/Eki\n",
    "S_m2C2=3*h_J*e**2/(8*np.pi**2*me*c)*lam*gi*fik_nist\n",
    "\n",
    "print('lam = {:.4e} m'.format(lam))\n",
    "print('lam = {:.4f} A'.format(lamAng))\n",
    "print('fik = {:.2e}'.format(fik))\n",
    "print('  S = {:.2e} a.u.'.format(Sau))\n",
    "print('  S = {:.2e} m^2 C^2'.format(S_m2C2))"
   ]
  },
  {
   "cell_type": "code",
   "execution_count": null,
   "metadata": {},
   "outputs": [],
   "source": []
  },
  {
   "cell_type": "code",
   "execution_count": null,
   "metadata": {},
   "outputs": [],
   "source": []
  },
  {
   "cell_type": "markdown",
   "metadata": {},
   "source": [
    "# From AUTOSTRUCTURE:"
   ]
  },
  {
   "cell_type": "code",
   "execution_count": 9,
   "metadata": {},
   "outputs": [],
   "source": [
    "# E1-DATA   K  KP  A(EK)*SEC      S          G*F     F(ABS)  -F(EMI)   WAVEL/AE   GF(VEL) \n",
    "#  2        5   1  4.368E+08  15.016985  1.599E+00  1.59886  0.53295   2852.9643 -1.34E+00"
   ]
  },
  {
   "cell_type": "code",
   "execution_count": null,
   "metadata": {},
   "outputs": [],
   "source": []
  },
  {
   "cell_type": "code",
   "execution_count": 10,
   "metadata": {},
   "outputs": [
    {
     "name": "stdout",
     "output_type": "stream",
     "text": [
      "lam = 2852.9644 A\n",
      "fik = 1.59885\n",
      "  S = 15.016907 a.u.\n",
      "Aki = 4.367579e+08 s^-1\n"
     ]
    }
   ],
   "source": [
    "Aki_AS=4.367560e+08  # data from oic\n",
    "fik_AS=1.59886\n",
    "\n",
    "gi=1\n",
    "gk=3\n",
    "Ei=0.0\n",
    "Ek=0.31941062\n",
    "Eki=Ek-Ei               # ry\n",
    "lam=hc/(Eki*IP)         # eV*m/eV = m\n",
    "lamAng=lam*convm2A\n",
    "fik=cteA2f*lam**2*gk/gi*Aki_AS\n",
    "Sau=3*gi*fik/Eki\n",
    "\n",
    "print('lam = {:.4f} A'.format(lamAng))\n",
    "print('fik = {:.5f}'.format(fik))\n",
    "print('  S = {:.6f} a.u.'.format(Sau))\n",
    "\n",
    "Aki=ctef2A/lam**2*gi/gk*fik_AS\n",
    "print('Aki = {:.6e} s^-1'.format(Aki))"
   ]
  },
  {
   "cell_type": "code",
   "execution_count": null,
   "metadata": {},
   "outputs": [],
   "source": []
  },
  {
   "cell_type": "code",
   "execution_count": 11,
   "metadata": {},
   "outputs": [],
   "source": [
    "# E1-DATA   K  KP  A(EK)*SEC      S          G*F     F(ABS)  -F(EMI)   WAVEL/AE   GF(VEL) \n",
    "#  1        3   1  1.844E+02   0.000026  1.733E-06  0.00000  0.00000   4570.8741 -5.17E-06"
   ]
  },
  {
   "cell_type": "code",
   "execution_count": 13,
   "metadata": {},
   "outputs": [
    {
     "name": "stdout",
     "output_type": "stream",
     "text": [
      "lam = 4572.3771 A\n",
      "fik = 1.73426e-06\n",
      "  S = 0.000026 a.u.\n",
      "Aki = 1.843e+02 s^-1\n"
     ]
    }
   ],
   "source": [
    "Aki_AS=1.84439E+02  # data from oic\n",
    "gfik_AS=1.733E-06\n",
    "\n",
    "gi=1\n",
    "gk=3\n",
    "Ei=0.0\n",
    "Ek=0.19929833\n",
    "Eki=Ek-Ei               # ry\n",
    "lam=hc/(Eki*IP)         # eV*m/eV = m\n",
    "lamAng=lam*convm2A\n",
    "fik=cteA2f*lam**2*gk/gi*Aki_AS\n",
    "Sau=3*gi*fik/Eki\n",
    "\n",
    "print('lam = {:.4f} A'.format(lamAng))\n",
    "print('fik = {:.5e}'.format(fik))\n",
    "print('  S = {:.6f} a.u.'.format(Sau))\n",
    "\n",
    "Aki=ctef2A/lam**2/gk*gfik_AS\n",
    "print('Aki = {:.3e} s^-1'.format(Aki))"
   ]
  },
  {
   "cell_type": "markdown",
   "metadata": {},
   "source": [
    "### Now the AS derived data follows SI system units (¡?)"
   ]
  },
  {
   "cell_type": "code",
   "execution_count": null,
   "metadata": {},
   "outputs": [],
   "source": []
  },
  {
   "cell_type": "code",
   "execution_count": null,
   "metadata": {},
   "outputs": [],
   "source": []
  },
  {
   "cell_type": "code",
   "execution_count": null,
   "metadata": {},
   "outputs": [],
   "source": []
  },
  {
   "cell_type": "code",
   "execution_count": null,
   "metadata": {},
   "outputs": [],
   "source": []
  }
 ],
 "metadata": {
  "kernelspec": {
   "display_name": "Python 3",
   "language": "python",
   "name": "python3"
  },
  "language_info": {
   "codemirror_mode": {
    "name": "ipython",
    "version": 3
   },
   "file_extension": ".py",
   "mimetype": "text/x-python",
   "name": "python",
   "nbconvert_exporter": "python",
   "pygments_lexer": "ipython3",
   "version": "3.7.4"
  }
 },
 "nbformat": 4,
 "nbformat_minor": 2
}
