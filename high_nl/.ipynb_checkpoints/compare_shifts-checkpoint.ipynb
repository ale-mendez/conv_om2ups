{
 "cells": [
  {
   "cell_type": "code",
   "execution_count": 1,
   "metadata": {},
   "outputs": [],
   "source": [
    "import numpy as np\n",
    "import pandas as pd\n",
    "import matplotlib.pyplot as plt\n",
    "plt.rcParams['font.size']=16"
   ]
  },
  {
   "cell_type": "code",
   "execution_count": 2,
   "metadata": {},
   "outputs": [],
   "source": [
    "as_levsLS=pd.read_csv('ishftls/NIST+AS_levels.dat',sep='\\s+',header='infer')\n",
    "as_termsLS=pd.read_csv('ishftls/NIST+AS_terms.dat',sep='\\s+',header='infer')\n",
    "as_levsIC=pd.read_csv('ishftic/NIST+AS_levels.dat',sep='\\s+',header='infer')\n",
    "as_termsIC=pd.read_csv('ishftic/NIST+AS_terms.dat',sep='\\s+',header='infer')"
   ]
  },
  {
   "cell_type": "code",
   "execution_count": 15,
   "metadata": {},
   "outputs": [],
   "source": [
    "as_levsLS.drop(0,axis=0,inplace=True)\n",
    "as_levsIC.drop(0,axis=0,inplace=True)\n",
    "as_termsLS.drop(0,axis=0,inplace=True)\n",
    "as_termsIC.drop(0,axis=0,inplace=True)"
   ]
  },
  {
   "cell_type": "code",
   "execution_count": 9,
   "metadata": {},
   "outputs": [],
   "source": [
    "droplev=as_levsLS.index[as_levsLS.loc[:]['NIST(Ryd)']==-1].tolist()\n",
    "as_levsLS.drop(droplev,axis=0,inplace=True)\n",
    "dropterms=as_termsLS.index[as_termsLS.loc[:]['NIST(Ryd)']==-1].tolist()\n",
    "as_termsLS.drop(dropterms,axis=0,inplace=True)\n",
    "droplev=as_levsIC.index[as_levsIC.loc[:]['NIST(Ryd)']==-1].tolist()\n",
    "as_levsIC.drop(droplev,axis=0,inplace=True)\n",
    "dropterms=as_termsIC.index[as_termsIC.loc[:]['NIST(Ryd)']==-1].tolist()\n",
    "as_termsIC.drop(dropterms,axis=0,inplace=True)\n",
    "\n",
    "as_levsLS['erp']=(as_levsLS['NIST(Ryd)']-as_levsLS['AS(Ryd)'])/as_levsLS['NIST(Ryd)']*100\n",
    "as_termsLS['erp']=(as_termsLS['NIST(Ryd)']-as_termsLS['AS(Ryd)'])/as_termsLS['NIST(Ryd)']*100\n",
    "as_levsIC['erp']=(as_levsIC['NIST(Ryd)']-as_levsIC['AS(Ryd)'])/as_levsIC['NIST(Ryd)']*100\n",
    "as_termsIC['erp']=(as_termsIC['NIST(Ryd)']-as_termsIC['AS(Ryd)'])/as_termsIC['NIST(Ryd)']*100"
   ]
  },
  {
   "cell_type": "code",
   "execution_count": 18,
   "metadata": {},
   "outputs": [
    {
     "data": {
      "text/plain": [
       "0.000924268497437793"
      ]
     },
     "execution_count": 18,
     "metadata": {},
     "output_type": "execute_result"
    }
   ],
   "source": [
    "sum(abs(as_levsLS['erp']))/len(as_levsLS)"
   ]
  },
  {
   "cell_type": "code",
   "execution_count": 20,
   "metadata": {},
   "outputs": [
    {
     "data": {
      "text/plain": [
       "6.058060117474355e-06"
      ]
     },
     "execution_count": 20,
     "metadata": {},
     "output_type": "execute_result"
    }
   ],
   "source": [
    "sum(abs(as_termsLS['erp']))/len(as_termsLS)"
   ]
  },
  {
   "cell_type": "code",
   "execution_count": 19,
   "metadata": {},
   "outputs": [
    {
     "data": {
      "text/plain": [
       "0.22940897181448877"
      ]
     },
     "execution_count": 19,
     "metadata": {},
     "output_type": "execute_result"
    }
   ],
   "source": [
    "sum(abs(as_levsIC['erp']))/len(as_levsIC)"
   ]
  },
  {
   "cell_type": "code",
   "execution_count": 21,
   "metadata": {},
   "outputs": [
    {
     "data": {
      "text/plain": [
       "0.22747799702524077"
      ]
     },
     "execution_count": 21,
     "metadata": {},
     "output_type": "execute_result"
    }
   ],
   "source": [
    "sum(abs(as_termsIC['erp']))/len(as_termsIC)"
   ]
  },
  {
   "cell_type": "code",
   "execution_count": 10,
   "metadata": {},
   "outputs": [
    {
     "data": {
      "image/png": "[encoded data removed]",
      "text/plain": [
       "<Figure size 720x360 with 1 Axes>"
      ]
     },
     "metadata": {
      "needs_background": "light"
     },
     "output_type": "display_data"
    }
   ],
   "source": [
    "fig=plt.figure(figsize=(10,5))\n",
    "plt.title('LEVELS')\n",
    "plt.plot(as_levsLS['K'],as_levsLS['erp'],'ko',label='shftls')\n",
    "plt.plot(as_levsIC['K'],as_levsIC['erp'],'ro',label='shftic')\n",
    "plt.legend(loc='best')\n",
    "plt.show()"
   ]
  },
  {
   "cell_type": "code",
   "execution_count": 11,
   "metadata": {},
   "outputs": [
    {
     "data": {
      "image/png": "[encoded data removed]",
      "text/plain": [
       "<Figure size 720x360 with 1 Axes>"
      ]
     },
     "metadata": {
      "needs_background": "light"
     },
     "output_type": "display_data"
    }
   ],
   "source": [
    "fig=plt.figure(figsize=(10,5))\n",
    "plt.title('TERMS')\n",
    "plt.plot(as_termsLS['I'],as_termsLS['erp'],'ko',label='shftls')\n",
    "plt.plot(as_termsIC['I'],as_termsIC['erp'],'ro',label='shftic')\n",
    "plt.legend(loc='best')\n",
    "plt.show()"
   ]
  },
  {
   "cell_type": "code",
   "execution_count": null,
   "metadata": {},
   "outputs": [],
   "source": []
  },
  {
   "cell_type": "code",
   "execution_count": null,
   "metadata": {},
   "outputs": [],
   "source": []
  },
  {
   "cell_type": "code",
   "execution_count": null,
   "metadata": {},
   "outputs": [],
   "source": []
  }
 ],
 "metadata": {
  "kernelspec": {
   "display_name": "Python 3",
   "language": "python",
   "name": "python3"
  },
  "language_info": {
   "codemirror_mode": {
    "name": "ipython",
    "version": 3
   },
   "file_extension": ".py",
   "mimetype": "text/x-python",
   "name": "python",
   "nbconvert_exporter": "python",
   "pygments_lexer": "ipython3",
   "version": "3.7.4"
  }
 },
 "nbformat": 4,
 "nbformat_minor": 2
}
