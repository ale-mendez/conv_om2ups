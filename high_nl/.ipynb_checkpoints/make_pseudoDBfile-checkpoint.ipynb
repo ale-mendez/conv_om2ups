{
 "cells": [
  {
   "cell_type": "code",
   "execution_count": 1,
   "metadata": {},
   "outputs": [],
   "source": [
    "import numpy as np\n",
    "import pandas as pd\n",
    "import matplotlib.pyplot as plt"
   ]
  },
  {
   "cell_type": "code",
   "execution_count": 2,
   "metadata": {},
   "outputs": [],
   "source": [
    "def determine_parity(df,ip):\n",
    "    df.insert(ip,'P',-1)\n",
    "    odd=df.index[df.loc[:]['2S+1']<0].tolist()\n",
    "    even=df.index[df.loc[:]['2S+1']>0].tolist()\n",
    "    for i in odd: df.at[i,'P']=1\n",
    "    for i in even: df.at[i,'P']=0\n",
    "    return\n",
    "\n",
    "def termsymbol_to_quantnumber(chterm):\n",
    "    chsq=chterm[0]\n",
    "    chlq=chterm[1]\n",
    "    # multiplicity 2S+1\n",
    "    sq=int(chsq)\n",
    "    # angular momenta L\n",
    "    if chlq=='S': lq=0\n",
    "    if chlq=='P': lq=1\n",
    "    if chlq=='D': lq=2\n",
    "    if chlq=='F': lq=3\n",
    "    if chlq=='G': lq=4\n",
    "    if chlq=='H': lq=5\n",
    "    if chlq=='I': lq=6\n",
    "    if chlq=='K': lq=7\n",
    "    # parity\n",
    "    if (lq%2)==0: pq=0\n",
    "    if (lq%2)!=0: pq=1\n",
    "    return sq,lq,pq\n",
    "\n",
    "def quantnumber_to_termsymbol(sq,lq,pq):\n",
    "    # multiplicity 2S+1\n",
    "    chsq=str(sq)\n",
    "    # angular momenta L\n",
    "    if lq==0: chlq='S'\n",
    "    if lq==1: chlq='P'\n",
    "    if lq==2: chlq='D'\n",
    "    if lq==3: chlq='F'\n",
    "    if lq==4: chlq='G'\n",
    "    if lq==5: chlq='H'\n",
    "    if lq==6: chlq='I'\n",
    "    if lq==7: chlq='K'\n",
    "    # parity\n",
    "    if pq==0: chpq=''\n",
    "    if pq!=0: chpq='*'\n",
    "    chterm=chsq+chlq+chpq\n",
    "    return chterm"
   ]
  },
  {
   "cell_type": "markdown",
   "metadata": {},
   "source": [
    "## Input NIST level and configuration data"
   ]
  },
  {
   "cell_type": "code",
   "execution_count": 3,
   "metadata": {},
   "outputs": [],
   "source": [
    "nist_levs=pd.read_csv(\"NIST_levels.dat\",sep='\\s+',skiprows=[0,2],header='infer')\n",
    "nist_cfgs=pd.read_csv(\"NIST_cfgs.dat\",sep='\\s+',skiprows=[0,2],header='infer')\n",
    "nist_levs.rename(columns={\"Level(Ry)\":\"NIST (Ryd)\"},inplace=True)\n",
    "nist_levs.rename(columns={\"Configuration\":\"Conf\"},inplace=True)\n",
    "nlevnist=len(nist_levs)\n",
    "# match configuration with AutoStructure labeling and decode spectroscopic terms to quantum numbers\n",
    "cf=[]\n",
    "sq=[]\n",
    "lq=[]\n",
    "pq=[]\n",
    "for i in range(nlevnist):\n",
    "    dumcf=nist_levs.loc[i]['Conf']\n",
    "    dumterm=nist_levs.loc[i]['Term']\n",
    "    sqq,lqq,pqq=termsymbol_to_quantnumber(dumterm)\n",
    "    icfg=nist_cfgs.loc[nist_cfgs.loc[:]['CFG']==dumcf]['i'].tolist()\n",
    "    sq.append(sqq)\n",
    "    lq.append(lqq)\n",
    "    pq.append(pqq)\n",
    "    cf.append(icfg[0])\n",
    "# insert new columns into NIST dataframe\n",
    "nist_levs.insert(2,'2S+1',sq)\n",
    "nist_levs.insert(3,'L',lq)\n",
    "nist_levs.insert(4,'P',pq)\n",
    "nist_levs.insert(5,'CF',cf)"
   ]
  },
  {
   "cell_type": "code",
   "execution_count": 4,
   "metadata": {},
   "outputs": [
    {
     "data": {
      "text/html": [
       "<div>\n",
       "<style scoped>\n",
       "    .dataframe tbody tr th:only-of-type {\n",
       "        vertical-align: middle;\n",
       "    }\n",
       "\n",
       "    .dataframe tbody tr th {\n",
       "        vertical-align: top;\n",
       "    }\n",
       "\n",
       "    .dataframe thead th {\n",
       "        text-align: right;\n",
       "    }\n",
       "</style>\n",
       "<table border=\"1\" class=\"dataframe\">\n",
       "  <thead>\n",
       "    <tr style=\"text-align: right;\">\n",
       "      <th></th>\n",
       "      <th>Conf</th>\n",
       "      <th>Term</th>\n",
       "      <th>2S+1</th>\n",
       "      <th>L</th>\n",
       "      <th>P</th>\n",
       "      <th>CF</th>\n",
       "      <th>J</th>\n",
       "      <th>NIST (Ryd)</th>\n",
       "    </tr>\n",
       "  </thead>\n",
       "  <tbody>\n",
       "    <tr>\n",
       "      <th>0</th>\n",
       "      <td>3s2</td>\n",
       "      <td>1S</td>\n",
       "      <td>1</td>\n",
       "      <td>0</td>\n",
       "      <td>0</td>\n",
       "      <td>1</td>\n",
       "      <td>0</td>\n",
       "      <td>0.000000</td>\n",
       "    </tr>\n",
       "    <tr>\n",
       "      <th>1</th>\n",
       "      <td>3s.3p</td>\n",
       "      <td>3P*</td>\n",
       "      <td>3</td>\n",
       "      <td>1</td>\n",
       "      <td>1</td>\n",
       "      <td>2</td>\n",
       "      <td>0</td>\n",
       "      <td>0.199116</td>\n",
       "    </tr>\n",
       "    <tr>\n",
       "      <th>2</th>\n",
       "      <td>3s.3p</td>\n",
       "      <td>3P*</td>\n",
       "      <td>3</td>\n",
       "      <td>1</td>\n",
       "      <td>1</td>\n",
       "      <td>2</td>\n",
       "      <td>1</td>\n",
       "      <td>0.199298</td>\n",
       "    </tr>\n",
       "    <tr>\n",
       "      <th>3</th>\n",
       "      <td>3s.3p</td>\n",
       "      <td>3P*</td>\n",
       "      <td>3</td>\n",
       "      <td>1</td>\n",
       "      <td>1</td>\n",
       "      <td>2</td>\n",
       "      <td>2</td>\n",
       "      <td>0.199669</td>\n",
       "    </tr>\n",
       "    <tr>\n",
       "      <th>4</th>\n",
       "      <td>3s.3p</td>\n",
       "      <td>1P*</td>\n",
       "      <td>1</td>\n",
       "      <td>1</td>\n",
       "      <td>1</td>\n",
       "      <td>2</td>\n",
       "      <td>1</td>\n",
       "      <td>0.319411</td>\n",
       "    </tr>\n",
       "  </tbody>\n",
       "</table>\n",
       "</div>"
      ],
      "text/plain": [
       "    Conf Term  2S+1  L  P  CF  J  NIST (Ryd)\n",
       "0    3s2   1S     1  0  0   1  0    0.000000\n",
       "1  3s.3p  3P*     3  1  1   2  0    0.199116\n",
       "2  3s.3p  3P*     3  1  1   2  1    0.199298\n",
       "3  3s.3p  3P*     3  1  1   2  2    0.199669\n",
       "4  3s.3p  1P*     1  1  1   2  1    0.319411"
      ]
     },
     "execution_count": 4,
     "metadata": {},
     "output_type": "execute_result"
    }
   ],
   "source": [
    "nist_levs.head()"
   ]
  },
  {
   "cell_type": "markdown",
   "metadata": {},
   "source": [
    "## Create NIST terms dataframe from NIST levels"
   ]
  },
  {
   "cell_type": "code",
   "execution_count": 5,
   "metadata": {},
   "outputs": [],
   "source": [
    "nist_terms=nist_levs.drop_duplicates(subset=['Conf','Term'],keep='first')\n",
    "nist_terms.reset_index(drop=True,inplace=True)\n",
    "# compute weighted energy and J quantum number for each term\n",
    "ntermnist=len(nist_terms)\n",
    "for i in range(ntermnist):\n",
    "    dumterm=nist_terms.loc[i][:]\n",
    "    dumlev=nist_levs.loc[(nist_levs.loc[:]['Conf']==dumterm['Conf'])\n",
    "                        &(nist_levs.loc[:]['Term']==dumterm['Term'])]\n",
    "    dumlev.reset_index(drop=True,inplace=True)\n",
    "    ndumlev=len(dumlev)\n",
    "    sum_giei=0.\n",
    "    sum_gi=0\n",
    "    for j in range(ndumlev):\n",
    "        gi=2*dumlev.loc[j]['J']+1\n",
    "        ei=dumlev.loc[j]['NIST (Ryd)']\n",
    "        sum_gi=sum_gi+gi\n",
    "        sum_giei=sum_giei+gi*ei\n",
    "    eiterm=sum_giei/sum_gi\n",
    "    jiterm=(sum_gi-1)/2\n",
    "    nist_terms.at[i,'NIST (Ryd)']=eiterm\n",
    "    nist_terms.at[i,'J']=jiterm"
   ]
  },
  {
   "cell_type": "code",
   "execution_count": 6,
   "metadata": {},
   "outputs": [
    {
     "data": {
      "text/html": [
       "<div>\n",
       "<style scoped>\n",
       "    .dataframe tbody tr th:only-of-type {\n",
       "        vertical-align: middle;\n",
       "    }\n",
       "\n",
       "    .dataframe tbody tr th {\n",
       "        vertical-align: top;\n",
       "    }\n",
       "\n",
       "    .dataframe thead th {\n",
       "        text-align: right;\n",
       "    }\n",
       "</style>\n",
       "<table border=\"1\" class=\"dataframe\">\n",
       "  <thead>\n",
       "    <tr style=\"text-align: right;\">\n",
       "      <th></th>\n",
       "      <th>Conf</th>\n",
       "      <th>Term</th>\n",
       "      <th>2S+1</th>\n",
       "      <th>L</th>\n",
       "      <th>P</th>\n",
       "      <th>CF</th>\n",
       "      <th>J</th>\n",
       "      <th>NIST (Ryd)</th>\n",
       "    </tr>\n",
       "  </thead>\n",
       "  <tbody>\n",
       "    <tr>\n",
       "      <th>0</th>\n",
       "      <td>3s2</td>\n",
       "      <td>1S</td>\n",
       "      <td>1</td>\n",
       "      <td>0</td>\n",
       "      <td>0</td>\n",
       "      <td>1</td>\n",
       "      <td>0</td>\n",
       "      <td>0.000000</td>\n",
       "    </tr>\n",
       "    <tr>\n",
       "      <th>1</th>\n",
       "      <td>3s.3p</td>\n",
       "      <td>3P*</td>\n",
       "      <td>3</td>\n",
       "      <td>1</td>\n",
       "      <td>1</td>\n",
       "      <td>2</td>\n",
       "      <td>4</td>\n",
       "      <td>0.199484</td>\n",
       "    </tr>\n",
       "    <tr>\n",
       "      <th>2</th>\n",
       "      <td>3s.3p</td>\n",
       "      <td>1P*</td>\n",
       "      <td>1</td>\n",
       "      <td>1</td>\n",
       "      <td>1</td>\n",
       "      <td>2</td>\n",
       "      <td>1</td>\n",
       "      <td>0.319411</td>\n",
       "    </tr>\n",
       "    <tr>\n",
       "      <th>3</th>\n",
       "      <td>3s.4s</td>\n",
       "      <td>3S</td>\n",
       "      <td>3</td>\n",
       "      <td>0</td>\n",
       "      <td>0</td>\n",
       "      <td>4</td>\n",
       "      <td>1</td>\n",
       "      <td>0.375418</td>\n",
       "    </tr>\n",
       "    <tr>\n",
       "      <th>4</th>\n",
       "      <td>3s.4s</td>\n",
       "      <td>1S</td>\n",
       "      <td>1</td>\n",
       "      <td>0</td>\n",
       "      <td>0</td>\n",
       "      <td>4</td>\n",
       "      <td>0</td>\n",
       "      <td>0.396432</td>\n",
       "    </tr>\n",
       "  </tbody>\n",
       "</table>\n",
       "</div>"
      ],
      "text/plain": [
       "    Conf Term  2S+1  L  P  CF  J  NIST (Ryd)\n",
       "0    3s2   1S     1  0  0   1  0    0.000000\n",
       "1  3s.3p  3P*     3  1  1   2  4    0.199484\n",
       "2  3s.3p  1P*     1  1  1   2  1    0.319411\n",
       "3  3s.4s   3S     3  0  0   4  1    0.375418\n",
       "4  3s.4s   1S     1  0  0   4  0    0.396432"
      ]
     },
     "execution_count": 6,
     "metadata": {},
     "output_type": "execute_result"
    }
   ],
   "source": [
    "nist_terms.head()"
   ]
  },
  {
   "cell_type": "markdown",
   "metadata": {},
   "source": [
    "## Input AutoStructure levels and terms"
   ]
  },
  {
   "cell_type": "code",
   "execution_count": 7,
   "metadata": {},
   "outputs": [],
   "source": [
    "ndum=6\n",
    "ncfgs=85\n",
    "nlevs=339\n",
    "as_levs=pd.read_csv(\"oic\",sep='\\s+',skiprows=ncfgs+ndum,header='infer',nrows=nlevs)\n",
    "determine_parity(as_levs,5)\n",
    "as_levs.loc[:]['2S+1']=abs(as_levs.loc[:]['2S+1'])\n",
    "as_levs.rename(columns={\"(EK-E1)/RY\":\"AS (Ryd)\"},inplace=True)\n",
    "nlevs=len(as_levs)"
   ]
  },
  {
   "cell_type": "code",
   "execution_count": 8,
   "metadata": {},
   "outputs": [
    {
     "data": {
      "text/html": [
       "<div>\n",
       "<style scoped>\n",
       "    .dataframe tbody tr th:only-of-type {\n",
       "        vertical-align: middle;\n",
       "    }\n",
       "\n",
       "    .dataframe tbody tr th {\n",
       "        vertical-align: top;\n",
       "    }\n",
       "\n",
       "    .dataframe thead th {\n",
       "        text-align: right;\n",
       "    }\n",
       "</style>\n",
       "<table border=\"1\" class=\"dataframe\">\n",
       "  <thead>\n",
       "    <tr style=\"text-align: right;\">\n",
       "      <th></th>\n",
       "      <th>K</th>\n",
       "      <th>LV</th>\n",
       "      <th>T</th>\n",
       "      <th>2S+1</th>\n",
       "      <th>L</th>\n",
       "      <th>P</th>\n",
       "      <th>2J</th>\n",
       "      <th>CF</th>\n",
       "      <th>AS (Ryd)</th>\n",
       "    </tr>\n",
       "  </thead>\n",
       "  <tbody>\n",
       "    <tr>\n",
       "      <th>0</th>\n",
       "      <td>1</td>\n",
       "      <td>298</td>\n",
       "      <td>169</td>\n",
       "      <td>1</td>\n",
       "      <td>0</td>\n",
       "      <td>0</td>\n",
       "      <td>0</td>\n",
       "      <td>1</td>\n",
       "      <td>0.000000</td>\n",
       "    </tr>\n",
       "    <tr>\n",
       "      <th>1</th>\n",
       "      <td>2</td>\n",
       "      <td>319</td>\n",
       "      <td>108</td>\n",
       "      <td>3</td>\n",
       "      <td>1</td>\n",
       "      <td>1</td>\n",
       "      <td>0</td>\n",
       "      <td>2</td>\n",
       "      <td>0.199116</td>\n",
       "    </tr>\n",
       "    <tr>\n",
       "      <th>2</th>\n",
       "      <td>3</td>\n",
       "      <td>253</td>\n",
       "      <td>108</td>\n",
       "      <td>3</td>\n",
       "      <td>1</td>\n",
       "      <td>1</td>\n",
       "      <td>2</td>\n",
       "      <td>2</td>\n",
       "      <td>0.199298</td>\n",
       "    </tr>\n",
       "    <tr>\n",
       "      <th>3</th>\n",
       "      <td>4</td>\n",
       "      <td>188</td>\n",
       "      <td>108</td>\n",
       "      <td>3</td>\n",
       "      <td>1</td>\n",
       "      <td>1</td>\n",
       "      <td>4</td>\n",
       "      <td>2</td>\n",
       "      <td>0.199669</td>\n",
       "    </tr>\n",
       "    <tr>\n",
       "      <th>4</th>\n",
       "      <td>5</td>\n",
       "      <td>274</td>\n",
       "      <td>130</td>\n",
       "      <td>1</td>\n",
       "      <td>1</td>\n",
       "      <td>1</td>\n",
       "      <td>2</td>\n",
       "      <td>2</td>\n",
       "      <td>0.319411</td>\n",
       "    </tr>\n",
       "  </tbody>\n",
       "</table>\n",
       "</div>"
      ],
      "text/plain": [
       "   K   LV    T  2S+1  L  P  2J  CF  AS (Ryd)\n",
       "0  1  298  169     1  0  0   0   1  0.000000\n",
       "1  2  319  108     3  1  1   0   2  0.199116\n",
       "2  3  253  108     3  1  1   2   2  0.199298\n",
       "3  4  188  108     3  1  1   4   2  0.199669\n",
       "4  5  274  130     1  1  1   2   2  0.319411"
      ]
     },
     "execution_count": 8,
     "metadata": {},
     "output_type": "execute_result"
    }
   ],
   "source": [
    "as_levs.head()"
   ]
  },
  {
   "cell_type": "code",
   "execution_count": 9,
   "metadata": {},
   "outputs": [
    {
     "ename": "EmptyDataError",
     "evalue": "No columns to parse from file",
     "output_type": "error",
     "traceback": [
      "\u001b[0;31m---------------------------------------------------------------------------\u001b[0m",
      "\u001b[0;31mEmptyDataError\u001b[0m                            Traceback (most recent call last)",
      "\u001b[0;32m<ipython-input-9-3dfc006422f2>\u001b[0m in \u001b[0;36m<module>\u001b[0;34m\u001b[0m\n\u001b[1;32m      1\u001b[0m \u001b[0mnterms\u001b[0m\u001b[0;34m=\u001b[0m\u001b[0;36m189\u001b[0m\u001b[0;34m\u001b[0m\u001b[0;34m\u001b[0m\u001b[0m\n\u001b[1;32m      2\u001b[0m \u001b[0mtcols\u001b[0m\u001b[0;34m=\u001b[0m\u001b[0;34m[\u001b[0m\u001b[0mi\u001b[0m \u001b[0;32mfor\u001b[0m \u001b[0mi\u001b[0m \u001b[0;32min\u001b[0m \u001b[0mrange\u001b[0m\u001b[0;34m(\u001b[0m\u001b[0;36m8\u001b[0m\u001b[0;34m)\u001b[0m\u001b[0;34m]\u001b[0m\u001b[0;34m\u001b[0m\u001b[0;34m\u001b[0m\u001b[0m\n\u001b[0;32m----> 3\u001b[0;31m \u001b[0mas_terms\u001b[0m\u001b[0;34m=\u001b[0m\u001b[0mpd\u001b[0m\u001b[0;34m.\u001b[0m\u001b[0mread_csv\u001b[0m\u001b[0;34m(\u001b[0m\u001b[0;34m\"olg\"\u001b[0m\u001b[0;34m,\u001b[0m\u001b[0msep\u001b[0m\u001b[0;34m=\u001b[0m\u001b[0;34m'\\s+'\u001b[0m\u001b[0;34m,\u001b[0m\u001b[0mskiprows\u001b[0m\u001b[0;34m=\u001b[0m\u001b[0;36m21499\u001b[0m\u001b[0;34m,\u001b[0m\u001b[0mheader\u001b[0m\u001b[0;34m=\u001b[0m\u001b[0;34m'infer'\u001b[0m\u001b[0;34m,\u001b[0m\u001b[0mnrows\u001b[0m\u001b[0;34m=\u001b[0m\u001b[0mnterms\u001b[0m\u001b[0;34m,\u001b[0m\u001b[0musecols\u001b[0m\u001b[0;34m=\u001b[0m\u001b[0mtcols\u001b[0m\u001b[0;34m)\u001b[0m\u001b[0;34m\u001b[0m\u001b[0;34m\u001b[0m\u001b[0m\n\u001b[0m\u001b[1;32m      4\u001b[0m \u001b[0mdetermine_parity\u001b[0m\u001b[0;34m(\u001b[0m\u001b[0mas_terms\u001b[0m\u001b[0;34m,\u001b[0m\u001b[0;36m5\u001b[0m\u001b[0;34m)\u001b[0m\u001b[0;34m\u001b[0m\u001b[0;34m\u001b[0m\u001b[0m\n\u001b[1;32m      5\u001b[0m \u001b[0mas_terms\u001b[0m\u001b[0;34m.\u001b[0m\u001b[0mloc\u001b[0m\u001b[0;34m[\u001b[0m\u001b[0;34m:\u001b[0m\u001b[0;34m]\u001b[0m\u001b[0;34m[\u001b[0m\u001b[0;34m'2S+1'\u001b[0m\u001b[0;34m]\u001b[0m\u001b[0;34m=\u001b[0m\u001b[0mabs\u001b[0m\u001b[0;34m(\u001b[0m\u001b[0mas_terms\u001b[0m\u001b[0;34m.\u001b[0m\u001b[0mloc\u001b[0m\u001b[0;34m[\u001b[0m\u001b[0;34m:\u001b[0m\u001b[0;34m]\u001b[0m\u001b[0;34m[\u001b[0m\u001b[0;34m'2S+1'\u001b[0m\u001b[0;34m]\u001b[0m\u001b[0;34m)\u001b[0m\u001b[0;34m\u001b[0m\u001b[0;34m\u001b[0m\u001b[0m\n",
      "\u001b[0;32m~/anaconda3/lib/python3.7/site-packages/pandas/io/parsers.py\u001b[0m in \u001b[0;36mparser_f\u001b[0;34m(filepath_or_buffer, sep, delimiter, header, names, index_col, usecols, squeeze, prefix, mangle_dupe_cols, dtype, engine, converters, true_values, false_values, skipinitialspace, skiprows, skipfooter, nrows, na_values, keep_default_na, na_filter, verbose, skip_blank_lines, parse_dates, infer_datetime_format, keep_date_col, date_parser, dayfirst, iterator, chunksize, compression, thousands, decimal, lineterminator, quotechar, quoting, doublequote, escapechar, comment, encoding, dialect, tupleize_cols, error_bad_lines, warn_bad_lines, delim_whitespace, low_memory, memory_map, float_precision)\u001b[0m\n\u001b[1;32m    700\u001b[0m                     skip_blank_lines=skip_blank_lines)\n\u001b[1;32m    701\u001b[0m \u001b[0;34m\u001b[0m\u001b[0m\n\u001b[0;32m--> 702\u001b[0;31m         \u001b[0;32mreturn\u001b[0m \u001b[0m_read\u001b[0m\u001b[0;34m(\u001b[0m\u001b[0mfilepath_or_buffer\u001b[0m\u001b[0;34m,\u001b[0m \u001b[0mkwds\u001b[0m\u001b[0;34m)\u001b[0m\u001b[0;34m\u001b[0m\u001b[0;34m\u001b[0m\u001b[0m\n\u001b[0m\u001b[1;32m    703\u001b[0m \u001b[0;34m\u001b[0m\u001b[0m\n\u001b[1;32m    704\u001b[0m     \u001b[0mparser_f\u001b[0m\u001b[0;34m.\u001b[0m\u001b[0m__name__\u001b[0m \u001b[0;34m=\u001b[0m \u001b[0mname\u001b[0m\u001b[0;34m\u001b[0m\u001b[0;34m\u001b[0m\u001b[0m\n",
      "\u001b[0;32m~/anaconda3/lib/python3.7/site-packages/pandas/io/parsers.py\u001b[0m in \u001b[0;36m_read\u001b[0;34m(filepath_or_buffer, kwds)\u001b[0m\n\u001b[1;32m    427\u001b[0m \u001b[0;34m\u001b[0m\u001b[0m\n\u001b[1;32m    428\u001b[0m     \u001b[0;31m# Create the parser.\u001b[0m\u001b[0;34m\u001b[0m\u001b[0;34m\u001b[0m\u001b[0;34m\u001b[0m\u001b[0m\n\u001b[0;32m--> 429\u001b[0;31m     \u001b[0mparser\u001b[0m \u001b[0;34m=\u001b[0m \u001b[0mTextFileReader\u001b[0m\u001b[0;34m(\u001b[0m\u001b[0mfilepath_or_buffer\u001b[0m\u001b[0;34m,\u001b[0m \u001b[0;34m**\u001b[0m\u001b[0mkwds\u001b[0m\u001b[0;34m)\u001b[0m\u001b[0;34m\u001b[0m\u001b[0;34m\u001b[0m\u001b[0m\n\u001b[0m\u001b[1;32m    430\u001b[0m \u001b[0;34m\u001b[0m\u001b[0m\n\u001b[1;32m    431\u001b[0m     \u001b[0;32mif\u001b[0m \u001b[0mchunksize\u001b[0m \u001b[0;32mor\u001b[0m \u001b[0miterator\u001b[0m\u001b[0;34m:\u001b[0m\u001b[0;34m\u001b[0m\u001b[0;34m\u001b[0m\u001b[0m\n",
      "\u001b[0;32m~/anaconda3/lib/python3.7/site-packages/pandas/io/parsers.py\u001b[0m in \u001b[0;36m__init__\u001b[0;34m(self, f, engine, **kwds)\u001b[0m\n\u001b[1;32m    893\u001b[0m             \u001b[0mself\u001b[0m\u001b[0;34m.\u001b[0m\u001b[0moptions\u001b[0m\u001b[0;34m[\u001b[0m\u001b[0;34m'has_index_names'\u001b[0m\u001b[0;34m]\u001b[0m \u001b[0;34m=\u001b[0m \u001b[0mkwds\u001b[0m\u001b[0;34m[\u001b[0m\u001b[0;34m'has_index_names'\u001b[0m\u001b[0;34m]\u001b[0m\u001b[0;34m\u001b[0m\u001b[0;34m\u001b[0m\u001b[0m\n\u001b[1;32m    894\u001b[0m \u001b[0;34m\u001b[0m\u001b[0m\n\u001b[0;32m--> 895\u001b[0;31m         \u001b[0mself\u001b[0m\u001b[0;34m.\u001b[0m\u001b[0m_make_engine\u001b[0m\u001b[0;34m(\u001b[0m\u001b[0mself\u001b[0m\u001b[0;34m.\u001b[0m\u001b[0mengine\u001b[0m\u001b[0;34m)\u001b[0m\u001b[0;34m\u001b[0m\u001b[0;34m\u001b[0m\u001b[0m\n\u001b[0m\u001b[1;32m    896\u001b[0m \u001b[0;34m\u001b[0m\u001b[0m\n\u001b[1;32m    897\u001b[0m     \u001b[0;32mdef\u001b[0m \u001b[0mclose\u001b[0m\u001b[0;34m(\u001b[0m\u001b[0mself\u001b[0m\u001b[0;34m)\u001b[0m\u001b[0;34m:\u001b[0m\u001b[0;34m\u001b[0m\u001b[0;34m\u001b[0m\u001b[0m\n",
      "\u001b[0;32m~/anaconda3/lib/python3.7/site-packages/pandas/io/parsers.py\u001b[0m in \u001b[0;36m_make_engine\u001b[0;34m(self, engine)\u001b[0m\n\u001b[1;32m   1120\u001b[0m     \u001b[0;32mdef\u001b[0m \u001b[0m_make_engine\u001b[0m\u001b[0;34m(\u001b[0m\u001b[0mself\u001b[0m\u001b[0;34m,\u001b[0m \u001b[0mengine\u001b[0m\u001b[0;34m=\u001b[0m\u001b[0;34m'c'\u001b[0m\u001b[0;34m)\u001b[0m\u001b[0;34m:\u001b[0m\u001b[0;34m\u001b[0m\u001b[0;34m\u001b[0m\u001b[0m\n\u001b[1;32m   1121\u001b[0m         \u001b[0;32mif\u001b[0m \u001b[0mengine\u001b[0m \u001b[0;34m==\u001b[0m \u001b[0;34m'c'\u001b[0m\u001b[0;34m:\u001b[0m\u001b[0;34m\u001b[0m\u001b[0;34m\u001b[0m\u001b[0m\n\u001b[0;32m-> 1122\u001b[0;31m             \u001b[0mself\u001b[0m\u001b[0;34m.\u001b[0m\u001b[0m_engine\u001b[0m \u001b[0;34m=\u001b[0m \u001b[0mCParserWrapper\u001b[0m\u001b[0;34m(\u001b[0m\u001b[0mself\u001b[0m\u001b[0;34m.\u001b[0m\u001b[0mf\u001b[0m\u001b[0;34m,\u001b[0m \u001b[0;34m**\u001b[0m\u001b[0mself\u001b[0m\u001b[0;34m.\u001b[0m\u001b[0moptions\u001b[0m\u001b[0;34m)\u001b[0m\u001b[0;34m\u001b[0m\u001b[0;34m\u001b[0m\u001b[0m\n\u001b[0m\u001b[1;32m   1123\u001b[0m         \u001b[0;32melse\u001b[0m\u001b[0;34m:\u001b[0m\u001b[0;34m\u001b[0m\u001b[0;34m\u001b[0m\u001b[0m\n\u001b[1;32m   1124\u001b[0m             \u001b[0;32mif\u001b[0m \u001b[0mengine\u001b[0m \u001b[0;34m==\u001b[0m \u001b[0;34m'python'\u001b[0m\u001b[0;34m:\u001b[0m\u001b[0;34m\u001b[0m\u001b[0;34m\u001b[0m\u001b[0m\n",
      "\u001b[0;32m~/anaconda3/lib/python3.7/site-packages/pandas/io/parsers.py\u001b[0m in \u001b[0;36m__init__\u001b[0;34m(self, src, **kwds)\u001b[0m\n\u001b[1;32m   1851\u001b[0m         \u001b[0mkwds\u001b[0m\u001b[0;34m[\u001b[0m\u001b[0;34m'usecols'\u001b[0m\u001b[0;34m]\u001b[0m \u001b[0;34m=\u001b[0m \u001b[0mself\u001b[0m\u001b[0;34m.\u001b[0m\u001b[0musecols\u001b[0m\u001b[0;34m\u001b[0m\u001b[0;34m\u001b[0m\u001b[0m\n\u001b[1;32m   1852\u001b[0m \u001b[0;34m\u001b[0m\u001b[0m\n\u001b[0;32m-> 1853\u001b[0;31m         \u001b[0mself\u001b[0m\u001b[0;34m.\u001b[0m\u001b[0m_reader\u001b[0m \u001b[0;34m=\u001b[0m \u001b[0mparsers\u001b[0m\u001b[0;34m.\u001b[0m\u001b[0mTextReader\u001b[0m\u001b[0;34m(\u001b[0m\u001b[0msrc\u001b[0m\u001b[0;34m,\u001b[0m \u001b[0;34m**\u001b[0m\u001b[0mkwds\u001b[0m\u001b[0;34m)\u001b[0m\u001b[0;34m\u001b[0m\u001b[0;34m\u001b[0m\u001b[0m\n\u001b[0m\u001b[1;32m   1854\u001b[0m         \u001b[0mself\u001b[0m\u001b[0;34m.\u001b[0m\u001b[0munnamed_cols\u001b[0m \u001b[0;34m=\u001b[0m \u001b[0mself\u001b[0m\u001b[0;34m.\u001b[0m\u001b[0m_reader\u001b[0m\u001b[0;34m.\u001b[0m\u001b[0munnamed_cols\u001b[0m\u001b[0;34m\u001b[0m\u001b[0;34m\u001b[0m\u001b[0m\n\u001b[1;32m   1855\u001b[0m \u001b[0;34m\u001b[0m\u001b[0m\n",
      "\u001b[0;32mpandas/_libs/parsers.pyx\u001b[0m in \u001b[0;36mpandas._libs.parsers.TextReader.__cinit__\u001b[0;34m()\u001b[0m\n",
      "\u001b[0;31mEmptyDataError\u001b[0m: No columns to parse from file"
     ]
    }
   ],
   "source": [
    "nterms=189\n",
    "tcols=[i for i in range(8)]\n",
    "as_terms=pd.read_csv(\"olg\",sep='\\s+',skiprows=21499,header='infer',nrows=nterms,usecols=tcols)\n",
    "determine_parity(as_terms,5)\n",
    "as_terms.loc[:]['2S+1']=abs(as_terms.loc[:]['2S+1'])\n",
    "as_terms.rename(columns={\"(EI-E1)/RY\":\"AS (Ryd)\"},inplace=True)\n",
    "nterms=len(as_terms)\n",
    "as_terms.drop(['K*CM','WEIGHTS'],axis=1,inplace=True)"
   ]
  },
  {
   "cell_type": "code",
   "execution_count": null,
   "metadata": {},
   "outputs": [],
   "source": [
    "as_terms.head()"
   ]
  },
  {
   "cell_type": "markdown",
   "metadata": {},
   "source": [
    "## Include NIST energy levels in AutoStructure levels dataframe"
   ]
  },
  {
   "cell_type": "code",
   "execution_count": null,
   "metadata": {},
   "outputs": [],
   "source": [
    "# include new column to match NIST energy levels\n",
    "iflag=-1\n",
    "ncols=len(as_levs.columns)\n",
    "as_levs.insert(ncols,'NIST (Ryd)',iflag)\n",
    "as_levs['NIST (Ryd)']=as_levs['NIST (Ryd)'].astype(float)\n",
    "# match multiplicity, angular momenta, J and configuration between NIST and AutoStructure\n",
    "for i in range(nlevs):\n",
    "    dumnist=nist_levs[\n",
    "           (nist_levs.loc[:]['2S+1']==as_levs.loc[i]['2S+1']) & \n",
    "           (nist_levs.loc[:]['L']   ==as_levs.loc[i]['L'])    & \n",
    "           (2*nist_levs.loc[:]['J'] ==as_levs.loc[i]['2J'])   & \n",
    "           (nist_levs.loc[:]['CF']  ==as_levs.loc[i]['CF'])][:]\n",
    "    if len(dumnist)==1:\n",
    "        as_levs.at[i,'NIST (Ryd)']=float(dumnist.iloc[0]['NIST (Ryd)'])"
   ]
  },
  {
   "cell_type": "code",
   "execution_count": null,
   "metadata": {},
   "outputs": [],
   "source": [
    "as_levs.head()"
   ]
  },
  {
   "cell_type": "code",
   "execution_count": null,
   "metadata": {},
   "outputs": [],
   "source": []
  },
  {
   "cell_type": "markdown",
   "metadata": {},
   "source": [
    "## Include NIST energy terms in AutoStructure terms dataframe"
   ]
  },
  {
   "cell_type": "code",
   "execution_count": null,
   "metadata": {},
   "outputs": [],
   "source": [
    "# include new column to match NIST energy terms\n",
    "iflag=-1\n",
    "ncols=len(as_terms.columns)\n",
    "as_terms.insert(ncols,'NIST (Ryd)',iflag)\n",
    "as_terms['NIST (Ryd)']=as_levs['NIST (Ryd)'].astype(float)\n",
    "# match multiplicity, angular momenta and configuration between NIST and AutoStructure\n",
    "for i in range(nterms):\n",
    "    dumnist=nist_terms[\n",
    "           (nist_terms.loc[:]['2S+1']==as_terms.loc[i]['2S+1']) & \n",
    "           (nist_terms.loc[:]['L']   ==as_terms.loc[i]['L'])    & \n",
    "           (nist_terms.loc[:]['CF']  ==as_terms.loc[i]['CF'])][:]\n",
    "    if len(dumnist)==1:\n",
    "        as_terms.at[i,'NIST (Ryd)']=float(dumnist.iloc[0]['NIST (Ryd)'])"
   ]
  },
  {
   "cell_type": "code",
   "execution_count": null,
   "metadata": {},
   "outputs": [],
   "source": [
    "as_terms.head()"
   ]
  },
  {
   "cell_type": "code",
   "execution_count": null,
   "metadata": {},
   "outputs": [],
   "source": []
  },
  {
   "cell_type": "code",
   "execution_count": null,
   "metadata": {},
   "outputs": [],
   "source": []
  },
  {
   "cell_type": "markdown",
   "metadata": {},
   "source": [
    "## Create pseudo Database dataframe with NIST and AS data"
   ]
  },
  {
   "cell_type": "code",
   "execution_count": null,
   "metadata": {},
   "outputs": [],
   "source": [
    "db_levs=as_levs.copy()\n",
    "db_terms=as_terms.copy()\n",
    "# drop lv and t columns and insert configuration and term columns\n",
    "db_levs.drop([\"LV\",\"T\"],axis=1,inplace=True)\n",
    "db_terms.drop([\"T\"],axis=1,inplace=True)\n",
    "db_levs.insert(1,'Conf','x')\n",
    "db_levs.insert(2,'Term','x')\n",
    "db_terms.insert(1,'Conf','x')\n",
    "db_terms.insert(2,'Term','x')\n",
    "# drop all levels and terms higher than 3s.20d\n",
    "ncfgmax=79\n",
    "droplev=db_levs.index[db_levs.loc[:]['CF']>ncfgmax].tolist()\n",
    "dropterm=db_terms.index[db_terms.loc[:]['CF']>ncfgmax].tolist()\n",
    "db_levs.drop(droplev,axis=0,inplace=True)\n",
    "db_terms.drop(dropterm,axis=0,inplace=True)\n",
    "# copy NIST energy levels to pseudo database dataframe\n",
    "ncols=len(db_levs.columns)\n",
    "db_levs['Energy']=db_levs['NIST (Ryd)']\n",
    "db_terms['Energy']=db_terms['NIST (Ryd)']\n",
    "# copy AutoStructure energy levels when no NIST energy data is available\n",
    "imiss_levs=db_levs.index[db_levs.loc[:]['Energy']==-1].tolist()\n",
    "imiss_terms=db_terms.index[db_terms.loc[:]['Energy']==-1].tolist()\n",
    "for i in imiss_levs:\n",
    "    db_levs.at[i,'Energy']=db_levs.loc[i]['AS (Ryd)']\n",
    "for i in imiss_terms:\n",
    "    db_terms.at[i,'Energy']=db_terms.loc[i]['AS (Ryd)']\n",
    "# check if there is any missing energy level\n",
    "icheck_levs=db_levs.loc[db_levs.loc[:]['Energy']==-1]\n",
    "icheck_terms=db_terms.loc[db_terms.loc[:]['Energy']==-1]\n",
    "if len(icheck_levs)!=0: print(\"missing: \",icheck_levs)\n",
    "if len(icheck_terms)!=0: print(\"missing: \",icheck_terms)"
   ]
  },
  {
   "cell_type": "code",
   "execution_count": null,
   "metadata": {},
   "outputs": [],
   "source": []
  },
  {
   "cell_type": "code",
   "execution_count": null,
   "metadata": {},
   "outputs": [],
   "source": []
  },
  {
   "cell_type": "code",
   "execution_count": null,
   "metadata": {},
   "outputs": [],
   "source": []
  },
  {
   "cell_type": "code",
   "execution_count": null,
   "metadata": {},
   "outputs": [],
   "source": []
  },
  {
   "cell_type": "code",
   "execution_count": null,
   "metadata": {},
   "outputs": [],
   "source": []
  },
  {
   "cell_type": "code",
   "execution_count": null,
   "metadata": {},
   "outputs": [],
   "source": [
    "ndblevs=len(db_levs)\n",
    "for i in range(ndblevs):\n",
    "    sq=db_levs.iloc[i]['2S+1']\n",
    "    lq=db_levs.iloc[i]['L']\n",
    "    pq=db_levs.iloc[i]['P']\n",
    "    icf=db_levs.iloc[i]['CF']\n",
    "    term=quantnumber_to_termsymbol(sq,lq,pq)\n",
    "    cf=nist_cfgs.loc[nist_cfgs.loc[:]['i']==icf]['CFG'].tolist()\n",
    "    db_levs.at[i,'Term']=term\n",
    "    db_levs.at[i,'Conf']=cf[0]\n",
    "ndbterms=len(db_terms)\n",
    "for i in range(ndbterms):\n",
    "    sq=db_terms.iloc[i]['2S+1']\n",
    "    lq=db_terms.iloc[i]['L']\n",
    "    pq=db_terms.iloc[i]['P']\n",
    "    icf=db_terms.iloc[i]['CF']\n",
    "    term=quantnumber_to_termsymbol(sq,lq,pq)\n",
    "    cf=nist_cfgs.loc[nist_cfgs.loc[:]['i']==icf]['CFG'].tolist()\n",
    "    db_terms.at[i,'Term']=term\n",
    "    db_terms.at[i,'Conf']=cf[0]"
   ]
  },
  {
   "cell_type": "code",
   "execution_count": null,
   "metadata": {},
   "outputs": [],
   "source": []
  },
  {
   "cell_type": "code",
   "execution_count": null,
   "metadata": {},
   "outputs": [],
   "source": []
  },
  {
   "cell_type": "markdown",
   "metadata": {},
   "source": [
    "## Print pseudo Database terms and levels dataframe"
   ]
  },
  {
   "cell_type": "code",
   "execution_count": null,
   "metadata": {},
   "outputs": [],
   "source": [
    "db_levs.to_csv('NIST+AS_levels.dat',index=False,sep='\\t',header=True,float_format='%.6f')\n",
    "db_terms.to_csv('NIST+AS_terms.dat',index=False,sep='\\t',header=True,float_format='%.6f')"
   ]
  },
  {
   "cell_type": "code",
   "execution_count": null,
   "metadata": {},
   "outputs": [],
   "source": []
  },
  {
   "cell_type": "code",
   "execution_count": null,
   "metadata": {},
   "outputs": [],
   "source": []
  },
  {
   "cell_type": "code",
   "execution_count": null,
   "metadata": {},
   "outputs": [],
   "source": []
  },
  {
   "cell_type": "code",
   "execution_count": null,
   "metadata": {},
   "outputs": [],
   "source": []
  },
  {
   "cell_type": "code",
   "execution_count": null,
   "metadata": {},
   "outputs": [],
   "source": []
  },
  {
   "cell_type": "code",
   "execution_count": null,
   "metadata": {},
   "outputs": [],
   "source": []
  },
  {
   "cell_type": "markdown",
   "metadata": {},
   "source": [
    "## Input AutoStructure transition data"
   ]
  },
  {
   "cell_type": "code",
   "execution_count": null,
   "metadata": {},
   "outputs": [],
   "source": [
    "ntrans=5\n",
    "as_tran=pd.read_csv(\"oic\",sep='\\s+',skiprows=ncfgs+ndum+nlevs+2,header='infer',nrows=ntrans)\n",
    "as_tran.rename(columns={\"CF\": \"CFk\",\n",
    "                        \"LV\": \"LVk\",\n",
    "                        \"W\": \"gk\",\n",
    "                        \"CF.1\": \"CFi\",\n",
    "                        \"LV.1\": \"LVi\",\n",
    "                        \"W.1\": \"gi\"},inplace=True)"
   ]
  },
  {
   "cell_type": "code",
   "execution_count": null,
   "metadata": {},
   "outputs": [],
   "source": []
  },
  {
   "cell_type": "code",
   "execution_count": null,
   "metadata": {},
   "outputs": [],
   "source": []
  },
  {
   "cell_type": "code",
   "execution_count": null,
   "metadata": {},
   "outputs": [],
   "source": []
  },
  {
   "cell_type": "code",
   "execution_count": null,
   "metadata": {},
   "outputs": [],
   "source": []
  },
  {
   "cell_type": "markdown",
   "metadata": {},
   "source": [
    "## Match AS and Database labeling"
   ]
  },
  {
   "cell_type": "code",
   "execution_count": null,
   "metadata": {},
   "outputs": [],
   "source": []
  },
  {
   "cell_type": "code",
   "execution_count": null,
   "metadata": {},
   "outputs": [],
   "source": []
  },
  {
   "cell_type": "code",
   "execution_count": null,
   "metadata": {},
   "outputs": [],
   "source": [
    "# AtNum   IonCh   MIdx    LvNum   type    FullConfig      ElectronConfig  Term    2S      L       P       LevelWeight     ExcitationWaven commentid\n",
    "# 12      0       1       1       1       2p6.3s2-1S      2p6.3s2         1S      0       0       NULL    1               0               27\n",
    "# 12      0       1       2       1       3s.3p-3P*       3s.3p           3P*     2       1       NULL    9               21850.405       27"
   ]
  }
 ],
 "metadata": {
  "kernelspec": {
   "display_name": "Python 3",
   "language": "python",
   "name": "python3"
  },
  "language_info": {
   "codemirror_mode": {
    "name": "ipython",
    "version": 3
   },
   "file_extension": ".py",
   "mimetype": "text/x-python",
   "name": "python",
   "nbconvert_exporter": "python",
   "pygments_lexer": "ipython3",
   "version": "3.7.3"
  }
 },
 "nbformat": 4,
 "nbformat_minor": 2
}
