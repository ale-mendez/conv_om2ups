{
 "cells": [
  {
   "cell_type": "code",
   "execution_count": 1,
   "metadata": {},
   "outputs": [],
   "source": [
    "import numpy as np\n",
    "import pandas as pd\n",
    "import matplotlib.pyplot as plt\n",
    "import os\n",
    "from scipy import interpolate\n",
    "from scipy.integrate import simps, romb, trapz"
   ]
  },
  {
   "cell_type": "code",
   "execution_count": 2,
   "metadata": {},
   "outputs": [],
   "source": [
    "kB=8.6173324E-05 # eV/K\n",
    "convRyd2eV=13.6057 # eV/Ryd"
   ]
  },
  {
   "cell_type": "markdown",
   "metadata": {},
   "source": [
    "# Define final scattered electron energy and temperatures"
   ]
  },
  {
   "cell_type": "code",
   "execution_count": 3,
   "metadata": {},
   "outputs": [],
   "source": [
    "ener=[1.00E-02,2.20E-01,4.89E-01,8.17E-01,1.22E+00,1.71E+00,2.30E+00,3.03E+00,3.92E+00,5.00E+00]\n",
    "T=[3.0E+03,4.0E+03,5.0E+03,6.0E+03,7.0E+03,8.0E+03,9.0E+03,1.0E+04,1.1E+04,1.2E+04,1.3E+04,1.4E+04,1.5E+04,1.6E+04]"
   ]
  },
  {
   "cell_type": "code",
   "execution_count": 4,
   "metadata": {},
   "outputs": [],
   "source": [
    "folder=\"om2ups/\"\n",
    "file_om=\"adf04_om\"\n",
    "file_ups=\"adf04_ups\""
   ]
  },
  {
   "cell_type": "code",
   "execution_count": 5,
   "metadata": {},
   "outputs": [],
   "source": [
    "def findexp_replace(folder,filename):\n",
    "    os.system(\"cp \"+folder+filename+\" tmp\")\n",
    "    os.system(\"sed -i 's/ /  /g' tmp\")\n",
    "    os.system(\"sed -i 's/+/E+/g' tmp\")\n",
    "    os.system(\"sed -i 's/-/E-/g' tmp\")\n",
    "    for i in range(99):\n",
    "        if i<10: os.system(\"sed -i 's/+0\"+str(i)+\"E/+0\"+str(i)+\" /g' tmp\")\n",
    "        if i<10: os.system(\"sed -i 's/-0\"+str(i)+\"E/-0\"+str(i)+\" /g' tmp\")\n",
    "        if i>=10: os.system(\"sed -i 's/+\"+str(i)+\"E/+\"+str(i)+\" /g' tmp\")\n",
    "        if i>=10: os.system(\"sed -i 's/-\"+str(i)+\"E/-\"+str(i)+\" /g' tmp\")"
   ]
  },
  {
   "cell_type": "code",
   "execution_count": 6,
   "metadata": {},
   "outputs": [],
   "source": [
    "def interp_omg(n,x,y,xnew,kind):\n",
    "    if kind==\"cubic\": spline=interpolate.interp1d(x, y, kind=kind)\n",
    "    if kind==\"akima\": spline=interpolate.Akima1DInterpolator(x,y)\n",
    "    ynew=spline(xnew)\n",
    "    return ynew"
   ]
  },
  {
   "cell_type": "code",
   "execution_count": 7,
   "metadata": {},
   "outputs": [],
   "source": [
    "nener=len(ener)\n",
    "ntemp=len(T)\n",
    "ntran=4"
   ]
  },
  {
   "cell_type": "code",
   "execution_count": null,
   "metadata": {},
   "outputs": [],
   "source": []
  },
  {
   "cell_type": "code",
   "execution_count": null,
   "metadata": {},
   "outputs": [],
   "source": []
  },
  {
   "cell_type": "code",
   "execution_count": null,
   "metadata": {
    "scrolled": true
   },
   "outputs": [],
   "source": []
  },
  {
   "cell_type": "markdown",
   "metadata": {},
   "source": [
    "# Load omega data"
   ]
  },
  {
   "cell_type": "code",
   "execution_count": 8,
   "metadata": {},
   "outputs": [],
   "source": [
    "findexp_replace(folder,file_om)"
   ]
  },
  {
   "cell_type": "code",
   "execution_count": 9,
   "metadata": {},
   "outputs": [],
   "source": [
    "omgcols=[i for i in range(nener+4)]\n",
    "omg=pd.read_csv(\"tmp\",sep=\"\\s+\",header=None,skiprows=93,nrows=ntran,usecols=omgcols)\n",
    "colsname= ['k','i','aki']\n",
    "for i in range(nener):\n",
    "    colsname.append(str(ener[i]))\n",
    "colsname.append(\"inf\")\n",
    "omg.columns=colsname"
   ]
  },
  {
   "cell_type": "code",
   "execution_count": 10,
   "metadata": {},
   "outputs": [
    {
     "data": {
      "text/html": [
       "<div>\n",
       "<style scoped>\n",
       "    .dataframe tbody tr th:only-of-type {\n",
       "        vertical-align: middle;\n",
       "    }\n",
       "\n",
       "    .dataframe tbody tr th {\n",
       "        vertical-align: top;\n",
       "    }\n",
       "\n",
       "    .dataframe thead th {\n",
       "        text-align: right;\n",
       "    }\n",
       "</style>\n",
       "<table border=\"1\" class=\"dataframe\">\n",
       "  <thead>\n",
       "    <tr style=\"text-align: right;\">\n",
       "      <th></th>\n",
       "      <th>k</th>\n",
       "      <th>i</th>\n",
       "      <th>aki</th>\n",
       "      <th>0.01</th>\n",
       "      <th>0.22</th>\n",
       "      <th>0.489</th>\n",
       "      <th>0.817</th>\n",
       "      <th>1.22</th>\n",
       "      <th>1.71</th>\n",
       "      <th>2.3</th>\n",
       "      <th>3.03</th>\n",
       "      <th>3.92</th>\n",
       "      <th>5.0</th>\n",
       "      <th>inf</th>\n",
       "    </tr>\n",
       "  </thead>\n",
       "  <tbody>\n",
       "    <tr>\n",
       "      <th>0</th>\n",
       "      <td>2</td>\n",
       "      <td>1</td>\n",
       "      <td>1.000000e-30</td>\n",
       "      <td>1.52</td>\n",
       "      <td>6.45</td>\n",
       "      <td>4.670</td>\n",
       "      <td>2.450</td>\n",
       "      <td>1.1600</td>\n",
       "      <td>0.5780</td>\n",
       "      <td>0.3140</td>\n",
       "      <td>0.1870</td>\n",
       "      <td>0.11500</td>\n",
       "      <td>0.07240</td>\n",
       "      <td>0.0</td>\n",
       "    </tr>\n",
       "    <tr>\n",
       "      <th>1</th>\n",
       "      <td>3</td>\n",
       "      <td>1</td>\n",
       "      <td>4.280000e+08</td>\n",
       "      <td>3.14</td>\n",
       "      <td>8.18</td>\n",
       "      <td>14.900</td>\n",
       "      <td>22.000</td>\n",
       "      <td>28.8000</td>\n",
       "      <td>34.6000</td>\n",
       "      <td>40.4000</td>\n",
       "      <td>45.6000</td>\n",
       "      <td>50.60000</td>\n",
       "      <td>55.50000</td>\n",
       "      <td>-19.6</td>\n",
       "    </tr>\n",
       "    <tr>\n",
       "      <th>2</th>\n",
       "      <td>3</td>\n",
       "      <td>2</td>\n",
       "      <td>1.000000e-30</td>\n",
       "      <td>11.90</td>\n",
       "      <td>11.80</td>\n",
       "      <td>4.350</td>\n",
       "      <td>1.770</td>\n",
       "      <td>0.7680</td>\n",
       "      <td>0.3700</td>\n",
       "      <td>0.1970</td>\n",
       "      <td>0.1140</td>\n",
       "      <td>0.06830</td>\n",
       "      <td>0.04190</td>\n",
       "      <td>0.0</td>\n",
       "    </tr>\n",
       "    <tr>\n",
       "      <th>3</th>\n",
       "      <td>4</td>\n",
       "      <td>1</td>\n",
       "      <td>1.000000e-30</td>\n",
       "      <td>1.06</td>\n",
       "      <td>1.18</td>\n",
       "      <td>0.385</td>\n",
       "      <td>0.199</td>\n",
       "      <td>0.0892</td>\n",
       "      <td>0.0409</td>\n",
       "      <td>0.0216</td>\n",
       "      <td>0.0128</td>\n",
       "      <td>0.00795</td>\n",
       "      <td>0.00501</td>\n",
       "      <td>0.0</td>\n",
       "    </tr>\n",
       "  </tbody>\n",
       "</table>\n",
       "</div>"
      ],
      "text/plain": [
       "   k  i           aki   0.01   0.22   0.489   0.817     1.22     1.71  \\\n",
       "0  2  1  1.000000e-30   1.52   6.45   4.670   2.450   1.1600   0.5780   \n",
       "1  3  1  4.280000e+08   3.14   8.18  14.900  22.000  28.8000  34.6000   \n",
       "2  3  2  1.000000e-30  11.90  11.80   4.350   1.770   0.7680   0.3700   \n",
       "3  4  1  1.000000e-30   1.06   1.18   0.385   0.199   0.0892   0.0409   \n",
       "\n",
       "       2.3     3.03      3.92       5.0   inf  \n",
       "0   0.3140   0.1870   0.11500   0.07240   0.0  \n",
       "1  40.4000  45.6000  50.60000  55.50000 -19.6  \n",
       "2   0.1970   0.1140   0.06830   0.04190   0.0  \n",
       "3   0.0216   0.0128   0.00795   0.00501   0.0  "
      ]
     },
     "execution_count": 10,
     "metadata": {},
     "output_type": "execute_result"
    }
   ],
   "source": [
    "omg"
   ]
  },
  {
   "cell_type": "markdown",
   "metadata": {},
   "source": [
    "# Load upsilon data computed with ADAS postprocessor"
   ]
  },
  {
   "cell_type": "code",
   "execution_count": 11,
   "metadata": {},
   "outputs": [],
   "source": [
    "findexp_replace(folder,file_ups)"
   ]
  },
  {
   "cell_type": "code",
   "execution_count": 12,
   "metadata": {},
   "outputs": [],
   "source": [
    "upscols=[i for i in range(ntemp+4)]\n",
    "ups_prev=pd.read_csv(\"tmp\",sep=\"\\s+\",header=None,skiprows=93,nrows=ntran,usecols=upscols)\n",
    "colsname= ['k','i','aki']\n",
    "for i in range(ntemp):\n",
    "    colsname.append(str(T[i]))\n",
    "colsname.append(\"inf\")\n",
    "ups_prev.columns=colsname"
   ]
  },
  {
   "cell_type": "code",
   "execution_count": 13,
   "metadata": {},
   "outputs": [
    {
     "data": {
      "text/html": [
       "<div>\n",
       "<style scoped>\n",
       "    .dataframe tbody tr th:only-of-type {\n",
       "        vertical-align: middle;\n",
       "    }\n",
       "\n",
       "    .dataframe tbody tr th {\n",
       "        vertical-align: top;\n",
       "    }\n",
       "\n",
       "    .dataframe thead th {\n",
       "        text-align: right;\n",
       "    }\n",
       "</style>\n",
       "<table border=\"1\" class=\"dataframe\">\n",
       "  <thead>\n",
       "    <tr style=\"text-align: right;\">\n",
       "      <th></th>\n",
       "      <th>k</th>\n",
       "      <th>i</th>\n",
       "      <th>aki</th>\n",
       "      <th>3000.0</th>\n",
       "      <th>4000.0</th>\n",
       "      <th>5000.0</th>\n",
       "      <th>6000.0</th>\n",
       "      <th>7000.0</th>\n",
       "      <th>8000.0</th>\n",
       "      <th>9000.0</th>\n",
       "      <th>10000.0</th>\n",
       "      <th>11000.0</th>\n",
       "      <th>12000.0</th>\n",
       "      <th>13000.0</th>\n",
       "      <th>14000.0</th>\n",
       "      <th>15000.0</th>\n",
       "      <th>16000.0</th>\n",
       "      <th>inf</th>\n",
       "    </tr>\n",
       "  </thead>\n",
       "  <tbody>\n",
       "    <tr>\n",
       "      <th>0</th>\n",
       "      <td>2</td>\n",
       "      <td>1</td>\n",
       "      <td>1.000000e-30</td>\n",
       "      <td>1.160</td>\n",
       "      <td>1.420</td>\n",
       "      <td>1.650</td>\n",
       "      <td>1.850</td>\n",
       "      <td>2.030</td>\n",
       "      <td>2.200</td>\n",
       "      <td>2.360</td>\n",
       "      <td>2.510</td>\n",
       "      <td>2.640</td>\n",
       "      <td>2.770</td>\n",
       "      <td>2.890</td>\n",
       "      <td>2.990</td>\n",
       "      <td>3.090</td>\n",
       "      <td>3.180</td>\n",
       "      <td>0.0</td>\n",
       "    </tr>\n",
       "    <tr>\n",
       "      <th>1</th>\n",
       "      <td>3</td>\n",
       "      <td>1</td>\n",
       "      <td>4.280000e+08</td>\n",
       "      <td>2.120</td>\n",
       "      <td>2.530</td>\n",
       "      <td>2.840</td>\n",
       "      <td>3.110</td>\n",
       "      <td>3.360</td>\n",
       "      <td>3.580</td>\n",
       "      <td>3.780</td>\n",
       "      <td>3.980</td>\n",
       "      <td>4.170</td>\n",
       "      <td>4.360</td>\n",
       "      <td>4.540</td>\n",
       "      <td>4.710</td>\n",
       "      <td>4.890</td>\n",
       "      <td>5.060</td>\n",
       "      <td>-19.6</td>\n",
       "    </tr>\n",
       "    <tr>\n",
       "      <th>2</th>\n",
       "      <td>3</td>\n",
       "      <td>2</td>\n",
       "      <td>1.000000e-30</td>\n",
       "      <td>7.030</td>\n",
       "      <td>8.010</td>\n",
       "      <td>8.670</td>\n",
       "      <td>9.130</td>\n",
       "      <td>9.470</td>\n",
       "      <td>9.730</td>\n",
       "      <td>9.930</td>\n",
       "      <td>10.100</td>\n",
       "      <td>10.200</td>\n",
       "      <td>10.300</td>\n",
       "      <td>10.400</td>\n",
       "      <td>10.400</td>\n",
       "      <td>10.400</td>\n",
       "      <td>10.400</td>\n",
       "      <td>0.0</td>\n",
       "    </tr>\n",
       "    <tr>\n",
       "      <th>3</th>\n",
       "      <td>4</td>\n",
       "      <td>1</td>\n",
       "      <td>1.000000e-30</td>\n",
       "      <td>0.633</td>\n",
       "      <td>0.724</td>\n",
       "      <td>0.786</td>\n",
       "      <td>0.831</td>\n",
       "      <td>0.865</td>\n",
       "      <td>0.892</td>\n",
       "      <td>0.913</td>\n",
       "      <td>0.929</td>\n",
       "      <td>0.942</td>\n",
       "      <td>0.953</td>\n",
       "      <td>0.961</td>\n",
       "      <td>0.967</td>\n",
       "      <td>0.971</td>\n",
       "      <td>0.974</td>\n",
       "      <td>0.0</td>\n",
       "    </tr>\n",
       "  </tbody>\n",
       "</table>\n",
       "</div>"
      ],
      "text/plain": [
       "   k  i           aki  3000.0  4000.0  5000.0  6000.0  7000.0  8000.0  9000.0  \\\n",
       "0  2  1  1.000000e-30   1.160   1.420   1.650   1.850   2.030   2.200   2.360   \n",
       "1  3  1  4.280000e+08   2.120   2.530   2.840   3.110   3.360   3.580   3.780   \n",
       "2  3  2  1.000000e-30   7.030   8.010   8.670   9.130   9.470   9.730   9.930   \n",
       "3  4  1  1.000000e-30   0.633   0.724   0.786   0.831   0.865   0.892   0.913   \n",
       "\n",
       "   10000.0  11000.0  12000.0  13000.0  14000.0  15000.0  16000.0   inf  \n",
       "0    2.510    2.640    2.770    2.890    2.990    3.090    3.180   0.0  \n",
       "1    3.980    4.170    4.360    4.540    4.710    4.890    5.060 -19.6  \n",
       "2   10.100   10.200   10.300   10.400   10.400   10.400   10.400   0.0  \n",
       "3    0.929    0.942    0.953    0.961    0.967    0.971    0.974   0.0  "
      ]
     },
     "execution_count": 13,
     "metadata": {},
     "output_type": "execute_result"
    }
   ],
   "source": [
    "ups_prev"
   ]
  },
  {
   "cell_type": "code",
   "execution_count": null,
   "metadata": {},
   "outputs": [],
   "source": []
  },
  {
   "cell_type": "code",
   "execution_count": null,
   "metadata": {},
   "outputs": [],
   "source": []
  },
  {
   "cell_type": "code",
   "execution_count": null,
   "metadata": {},
   "outputs": [],
   "source": []
  },
  {
   "cell_type": "markdown",
   "metadata": {},
   "source": [
    "# Interpolate collision strength of 4 excitations: $\\Omega(i\\rightarrow k)$"
   ]
  },
  {
   "cell_type": "code",
   "execution_count": 95,
   "metadata": {},
   "outputs": [],
   "source": [
    "npts=4097\n",
    "ener_new=np.linspace(ener[0], ener[nener-1], npts)\n",
    "omgdat=[]\n",
    "omgint=[]\n",
    "for i in range(ntran):\n",
    "    y=omg.loc[i][3:-1].values\n",
    "    ynew=interp_omg(nener,ener,y,ener_new,'akima')\n",
    "    omgdat.append(y)\n",
    "    omgint.append(ynew)"
   ]
  },
  {
   "cell_type": "code",
   "execution_count": 15,
   "metadata": {},
   "outputs": [
    {
     "data": {
      "image/png": "[encoded data removed]",
      "text/plain": [
       "<Figure size 1080x1080 with 4 Axes>"
      ]
     },
     "metadata": {
      "needs_background": "light"
     },
     "output_type": "display_data"
    }
   ],
   "source": [
    "fig,axs=plt.subplots(2,2,figsize=(15,15))\n",
    "axs[0,0].plot(ener,omgdat[0],'ko',label=\"data\")\n",
    "axs[0,0].plot(ener_new,omgint[0],'r--',label=\"interp\")\n",
    "axs[0,0].legend(loc='best',fontsize=20)\n",
    "axs[0,1].plot(ener,omgdat[1],'ko',label=\"data\")\n",
    "axs[0,1].plot(ener_new,omgint[1],'r--',label=\"interp\")\n",
    "axs[1,0].plot(ener,omgdat[2],'ko',label=\"data\")\n",
    "axs[1,0].plot(ener_new,omgint[2],'r--',label=\"interp\")\n",
    "axs[1,1].plot(ener,omgdat[3],'ko',label=\"data\")\n",
    "axs[1,1].plot(ener_new,omgint[3],'r--',label=\"interp\")\n",
    "plt.show()"
   ]
  },
  {
   "cell_type": "code",
   "execution_count": null,
   "metadata": {},
   "outputs": [],
   "source": []
  },
  {
   "cell_type": "code",
   "execution_count": null,
   "metadata": {},
   "outputs": [],
   "source": []
  },
  {
   "cell_type": "markdown",
   "metadata": {},
   "source": [
    "# Make pandas with new upsilon"
   ]
  },
  {
   "cell_type": "code",
   "execution_count": 368,
   "metadata": {},
   "outputs": [],
   "source": [
    "ups_curr=ups_prev.copy()"
   ]
  },
  {
   "cell_type": "code",
   "execution_count": 369,
   "metadata": {},
   "outputs": [],
   "source": [
    "for j in range(ntran):\n",
    "    for i in range(ntemp):\n",
    "        ups_curr.loc[j,str(T[i])]=0."
   ]
  },
  {
   "cell_type": "code",
   "execution_count": 370,
   "metadata": {},
   "outputs": [
    {
     "name": "stdout",
     "output_type": "stream",
     "text": [
      "0 [1.32191604807399, 1.6591658754993988, 1.9505148704344795, 2.208679116672751]\n",
      "1 [2.1204085658804672, 2.520036549794811, 2.8371175938059023, 3.1067249316264385]\n",
      "2 [7.153520749870073, 8.192865531781349, 8.894394743591695, 9.39666832814579]\n",
      "3 [0.6493818829884765, 0.7477942422303872, 0.8159065529109981, 0.8659403853890283]\n"
     ]
    }
   ],
   "source": [
    "npts=2**10+1\n",
    "ener_new=np.linspace(ener[0], ener[nener-1], npts)\n",
    "for j in range(ntran):\n",
    "    y=omg.loc[j][3:-1].values\n",
    "    ynew=interp_omg(nener,ener,y,ener_new,'akima')\n",
    "    yups=[]\n",
    "    for i in range(ntemp):\n",
    "        kBT=kB*T[i]\n",
    "        arg=ener_new*convRyd2eV/kBT\n",
    "        yint=ynew*np.exp(-arg)\n",
    "        I1=simps(yint, arg)\n",
    "        yups.append(I1)\n",
    "        ups_curr.loc[j,str(T[i])]=I1\n",
    "    print(j,yups[:4])"
   ]
  },
  {
   "cell_type": "code",
   "execution_count": 371,
   "metadata": {},
   "outputs": [
    {
     "data": {
      "text/html": [
       "<div>\n",
       "<style scoped>\n",
       "    .dataframe tbody tr th:only-of-type {\n",
       "        vertical-align: middle;\n",
       "    }\n",
       "\n",
       "    .dataframe tbody tr th {\n",
       "        vertical-align: top;\n",
       "    }\n",
       "\n",
       "    .dataframe thead th {\n",
       "        text-align: right;\n",
       "    }\n",
       "</style>\n",
       "<table border=\"1\" class=\"dataframe\">\n",
       "  <thead>\n",
       "    <tr style=\"text-align: right;\">\n",
       "      <th></th>\n",
       "      <th>k</th>\n",
       "      <th>i</th>\n",
       "      <th>aki</th>\n",
       "      <th>3000.0</th>\n",
       "      <th>4000.0</th>\n",
       "      <th>5000.0</th>\n",
       "      <th>6000.0</th>\n",
       "      <th>7000.0</th>\n",
       "      <th>8000.0</th>\n",
       "      <th>9000.0</th>\n",
       "      <th>10000.0</th>\n",
       "      <th>11000.0</th>\n",
       "      <th>12000.0</th>\n",
       "      <th>13000.0</th>\n",
       "      <th>14000.0</th>\n",
       "      <th>15000.0</th>\n",
       "      <th>16000.0</th>\n",
       "      <th>inf</th>\n",
       "    </tr>\n",
       "  </thead>\n",
       "  <tbody>\n",
       "    <tr>\n",
       "      <th>0</th>\n",
       "      <td>2</td>\n",
       "      <td>1</td>\n",
       "      <td>1.000000e-30</td>\n",
       "      <td>1.321916</td>\n",
       "      <td>1.659166</td>\n",
       "      <td>1.950515</td>\n",
       "      <td>2.208679</td>\n",
       "      <td>2.440010</td>\n",
       "      <td>2.648290</td>\n",
       "      <td>2.836190</td>\n",
       "      <td>3.005845</td>\n",
       "      <td>3.159078</td>\n",
       "      <td>3.297494</td>\n",
       "      <td>3.422529</td>\n",
       "      <td>3.535463</td>\n",
       "      <td>3.637447</td>\n",
       "      <td>3.729510</td>\n",
       "      <td>0.0</td>\n",
       "    </tr>\n",
       "    <tr>\n",
       "      <th>1</th>\n",
       "      <td>3</td>\n",
       "      <td>1</td>\n",
       "      <td>4.280000e+08</td>\n",
       "      <td>2.120409</td>\n",
       "      <td>2.520037</td>\n",
       "      <td>2.837118</td>\n",
       "      <td>3.106725</td>\n",
       "      <td>3.346751</td>\n",
       "      <td>3.567195</td>\n",
       "      <td>3.774060</td>\n",
       "      <td>3.971150</td>\n",
       "      <td>4.160985</td>\n",
       "      <td>4.345287</td>\n",
       "      <td>4.525268</td>\n",
       "      <td>4.701797</td>\n",
       "      <td>4.875506</td>\n",
       "      <td>5.046866</td>\n",
       "      <td>-19.6</td>\n",
       "    </tr>\n",
       "    <tr>\n",
       "      <th>2</th>\n",
       "      <td>3</td>\n",
       "      <td>2</td>\n",
       "      <td>1.000000e-30</td>\n",
       "      <td>7.153521</td>\n",
       "      <td>8.192866</td>\n",
       "      <td>8.894395</td>\n",
       "      <td>9.396668</td>\n",
       "      <td>9.770049</td>\n",
       "      <td>10.053842</td>\n",
       "      <td>10.271816</td>\n",
       "      <td>10.439346</td>\n",
       "      <td>10.566976</td>\n",
       "      <td>10.662299</td>\n",
       "      <td>10.731013</td>\n",
       "      <td>10.777542</td>\n",
       "      <td>10.805406</td>\n",
       "      <td>10.817466</td>\n",
       "      <td>0.0</td>\n",
       "    </tr>\n",
       "    <tr>\n",
       "      <th>3</th>\n",
       "      <td>4</td>\n",
       "      <td>1</td>\n",
       "      <td>1.000000e-30</td>\n",
       "      <td>0.649382</td>\n",
       "      <td>0.747794</td>\n",
       "      <td>0.815907</td>\n",
       "      <td>0.865940</td>\n",
       "      <td>0.904099</td>\n",
       "      <td>0.933851</td>\n",
       "      <td>0.957304</td>\n",
       "      <td>0.975833</td>\n",
       "      <td>0.990394</td>\n",
       "      <td>1.001691</td>\n",
       "      <td>1.010260</td>\n",
       "      <td>1.016527</td>\n",
       "      <td>1.020837</td>\n",
       "      <td>1.023477</td>\n",
       "      <td>0.0</td>\n",
       "    </tr>\n",
       "  </tbody>\n",
       "</table>\n",
       "</div>"
      ],
      "text/plain": [
       "   k  i           aki    3000.0    4000.0    5000.0    6000.0    7000.0  \\\n",
       "0  2  1  1.000000e-30  1.321916  1.659166  1.950515  2.208679  2.440010   \n",
       "1  3  1  4.280000e+08  2.120409  2.520037  2.837118  3.106725  3.346751   \n",
       "2  3  2  1.000000e-30  7.153521  8.192866  8.894395  9.396668  9.770049   \n",
       "3  4  1  1.000000e-30  0.649382  0.747794  0.815907  0.865940  0.904099   \n",
       "\n",
       "      8000.0     9000.0    10000.0    11000.0    12000.0    13000.0  \\\n",
       "0   2.648290   2.836190   3.005845   3.159078   3.297494   3.422529   \n",
       "1   3.567195   3.774060   3.971150   4.160985   4.345287   4.525268   \n",
       "2  10.053842  10.271816  10.439346  10.566976  10.662299  10.731013   \n",
       "3   0.933851   0.957304   0.975833   0.990394   1.001691   1.010260   \n",
       "\n",
       "     14000.0    15000.0    16000.0   inf  \n",
       "0   3.535463   3.637447   3.729510   0.0  \n",
       "1   4.701797   4.875506   5.046866 -19.6  \n",
       "2  10.777542  10.805406  10.817466   0.0  \n",
       "3   1.016527   1.020837   1.023477   0.0  "
      ]
     },
     "execution_count": 371,
     "metadata": {},
     "output_type": "execute_result"
    }
   ],
   "source": [
    "ups_curr"
   ]
  },
  {
   "cell_type": "code",
   "execution_count": 28,
   "metadata": {},
   "outputs": [
    {
     "data": {
      "text/html": [
       "<div>\n",
       "<style scoped>\n",
       "    .dataframe tbody tr th:only-of-type {\n",
       "        vertical-align: middle;\n",
       "    }\n",
       "\n",
       "    .dataframe tbody tr th {\n",
       "        vertical-align: top;\n",
       "    }\n",
       "\n",
       "    .dataframe thead th {\n",
       "        text-align: right;\n",
       "    }\n",
       "</style>\n",
       "<table border=\"1\" class=\"dataframe\">\n",
       "  <thead>\n",
       "    <tr style=\"text-align: right;\">\n",
       "      <th></th>\n",
       "      <th>k</th>\n",
       "      <th>i</th>\n",
       "      <th>aki</th>\n",
       "      <th>3000.0</th>\n",
       "      <th>4000.0</th>\n",
       "      <th>5000.0</th>\n",
       "      <th>6000.0</th>\n",
       "      <th>7000.0</th>\n",
       "      <th>8000.0</th>\n",
       "      <th>9000.0</th>\n",
       "      <th>10000.0</th>\n",
       "      <th>11000.0</th>\n",
       "      <th>12000.0</th>\n",
       "      <th>13000.0</th>\n",
       "      <th>14000.0</th>\n",
       "      <th>15000.0</th>\n",
       "      <th>16000.0</th>\n",
       "      <th>inf</th>\n",
       "    </tr>\n",
       "  </thead>\n",
       "  <tbody>\n",
       "    <tr>\n",
       "      <th>0</th>\n",
       "      <td>2</td>\n",
       "      <td>1</td>\n",
       "      <td>1.000000e-30</td>\n",
       "      <td>1.160</td>\n",
       "      <td>1.420</td>\n",
       "      <td>1.650</td>\n",
       "      <td>1.850</td>\n",
       "      <td>2.030</td>\n",
       "      <td>2.200</td>\n",
       "      <td>2.360</td>\n",
       "      <td>2.510</td>\n",
       "      <td>2.640</td>\n",
       "      <td>2.770</td>\n",
       "      <td>2.890</td>\n",
       "      <td>2.990</td>\n",
       "      <td>3.090</td>\n",
       "      <td>3.180</td>\n",
       "      <td>0.0</td>\n",
       "    </tr>\n",
       "    <tr>\n",
       "      <th>1</th>\n",
       "      <td>3</td>\n",
       "      <td>1</td>\n",
       "      <td>4.280000e+08</td>\n",
       "      <td>2.120</td>\n",
       "      <td>2.530</td>\n",
       "      <td>2.840</td>\n",
       "      <td>3.110</td>\n",
       "      <td>3.360</td>\n",
       "      <td>3.580</td>\n",
       "      <td>3.780</td>\n",
       "      <td>3.980</td>\n",
       "      <td>4.170</td>\n",
       "      <td>4.360</td>\n",
       "      <td>4.540</td>\n",
       "      <td>4.710</td>\n",
       "      <td>4.890</td>\n",
       "      <td>5.060</td>\n",
       "      <td>-19.6</td>\n",
       "    </tr>\n",
       "    <tr>\n",
       "      <th>2</th>\n",
       "      <td>3</td>\n",
       "      <td>2</td>\n",
       "      <td>1.000000e-30</td>\n",
       "      <td>7.030</td>\n",
       "      <td>8.010</td>\n",
       "      <td>8.670</td>\n",
       "      <td>9.130</td>\n",
       "      <td>9.470</td>\n",
       "      <td>9.730</td>\n",
       "      <td>9.930</td>\n",
       "      <td>10.100</td>\n",
       "      <td>10.200</td>\n",
       "      <td>10.300</td>\n",
       "      <td>10.400</td>\n",
       "      <td>10.400</td>\n",
       "      <td>10.400</td>\n",
       "      <td>10.400</td>\n",
       "      <td>0.0</td>\n",
       "    </tr>\n",
       "    <tr>\n",
       "      <th>3</th>\n",
       "      <td>4</td>\n",
       "      <td>1</td>\n",
       "      <td>1.000000e-30</td>\n",
       "      <td>0.633</td>\n",
       "      <td>0.724</td>\n",
       "      <td>0.786</td>\n",
       "      <td>0.831</td>\n",
       "      <td>0.865</td>\n",
       "      <td>0.892</td>\n",
       "      <td>0.913</td>\n",
       "      <td>0.929</td>\n",
       "      <td>0.942</td>\n",
       "      <td>0.953</td>\n",
       "      <td>0.961</td>\n",
       "      <td>0.967</td>\n",
       "      <td>0.971</td>\n",
       "      <td>0.974</td>\n",
       "      <td>0.0</td>\n",
       "    </tr>\n",
       "  </tbody>\n",
       "</table>\n",
       "</div>"
      ],
      "text/plain": [
       "   k  i           aki  3000.0  4000.0  5000.0  6000.0  7000.0  8000.0  9000.0  \\\n",
       "0  2  1  1.000000e-30   1.160   1.420   1.650   1.850   2.030   2.200   2.360   \n",
       "1  3  1  4.280000e+08   2.120   2.530   2.840   3.110   3.360   3.580   3.780   \n",
       "2  3  2  1.000000e-30   7.030   8.010   8.670   9.130   9.470   9.730   9.930   \n",
       "3  4  1  1.000000e-30   0.633   0.724   0.786   0.831   0.865   0.892   0.913   \n",
       "\n",
       "   10000.0  11000.0  12000.0  13000.0  14000.0  15000.0  16000.0   inf  \n",
       "0    2.510    2.640    2.770    2.890    2.990    3.090    3.180   0.0  \n",
       "1    3.980    4.170    4.360    4.540    4.710    4.890    5.060 -19.6  \n",
       "2   10.100   10.200   10.300   10.400   10.400   10.400   10.400   0.0  \n",
       "3    0.929    0.942    0.953    0.961    0.967    0.971    0.974   0.0  "
      ]
     },
     "execution_count": 28,
     "metadata": {},
     "output_type": "execute_result"
    }
   ],
   "source": [
    "ups_prev"
   ]
  },
  {
   "cell_type": "code",
   "execution_count": null,
   "metadata": {},
   "outputs": [],
   "source": []
  },
  {
   "cell_type": "code",
   "execution_count": 375,
   "metadata": {},
   "outputs": [
    {
     "data": {
      "image/png": "[encoded data removed]",
      "text/plain": [
       "<Figure size 1080x1080 with 4 Axes>"
      ]
     },
     "metadata": {
      "needs_background": "light"
     },
     "output_type": "display_data"
    }
   ],
   "source": [
    "fig,axs=plt.subplots(2,2,figsize=(15,15))\n",
    "axs[0,0].plot(T,ups_prev.loc[0][3:-1],'k',label=\"adas postproc\")\n",
    "axs[0,0].plot(T,ups_curr.loc[0][3:-1],'r',label=\"current\")\n",
    "axs[0,0].legend(loc='best',fontsize=20)\n",
    "axs[0,1].plot(T,ups_prev.loc[1][3:-1],'k')\n",
    "axs[0,1].plot(T,ups_curr.loc[1][3:-1],'r')\n",
    "axs[1,0].plot(T,ups_prev.loc[2][3:-1],'k')\n",
    "axs[1,0].plot(T,ups_curr.loc[2][3:-1],'r')\n",
    "axs[1,1].plot(T,ups_prev.loc[3][3:-1],'k')\n",
    "axs[1,1].plot(T,ups_curr.loc[3][3:-1],'r')\n",
    "plt.show()"
   ]
  },
  {
   "cell_type": "code",
   "execution_count": null,
   "metadata": {},
   "outputs": [],
   "source": []
  },
  {
   "cell_type": "markdown",
   "metadata": {},
   "source": [
    "# Burgess and Tully interpolation"
   ]
  },
  {
   "cell_type": "markdown",
   "metadata": {},
   "source": [
    "## Type 3:\n",
    "\n",
    "$$ x=\\frac{E/E_{ji}}{E/E_{ji}+C}, \\qquad \n",
    "   y=\\left(E/E_{ji} + 1\\right)^2 \\Omega $$ \n",
    "where\n",
    "$$ y(0) = \\Omega(0), \\qquad y(1)=??$$"
   ]
  },
  {
   "cell_type": "code",
   "execution_count": 58,
   "metadata": {},
   "outputs": [],
   "source": [
    "C=np.e"
   ]
  },
  {
   "cell_type": "code",
   "execution_count": 59,
   "metadata": {},
   "outputs": [
    {
     "data": {
      "text/html": [
       "<div>\n",
       "<style scoped>\n",
       "    .dataframe tbody tr th:only-of-type {\n",
       "        vertical-align: middle;\n",
       "    }\n",
       "\n",
       "    .dataframe tbody tr th {\n",
       "        vertical-align: top;\n",
       "    }\n",
       "\n",
       "    .dataframe thead th {\n",
       "        text-align: right;\n",
       "    }\n",
       "</style>\n",
       "<table border=\"1\" class=\"dataframe\">\n",
       "  <thead>\n",
       "    <tr style=\"text-align: right;\">\n",
       "      <th></th>\n",
       "      <th>k</th>\n",
       "      <th>i</th>\n",
       "      <th>aki</th>\n",
       "      <th>0.01</th>\n",
       "      <th>0.22</th>\n",
       "      <th>0.489</th>\n",
       "      <th>0.817</th>\n",
       "      <th>1.22</th>\n",
       "      <th>1.71</th>\n",
       "      <th>2.3</th>\n",
       "      <th>3.03</th>\n",
       "      <th>3.92</th>\n",
       "      <th>5.0</th>\n",
       "      <th>inf</th>\n",
       "    </tr>\n",
       "  </thead>\n",
       "  <tbody>\n",
       "    <tr>\n",
       "      <th>0</th>\n",
       "      <td>2</td>\n",
       "      <td>1</td>\n",
       "      <td>1.000000e-30</td>\n",
       "      <td>1.52</td>\n",
       "      <td>6.45</td>\n",
       "      <td>4.670</td>\n",
       "      <td>2.450</td>\n",
       "      <td>1.1600</td>\n",
       "      <td>0.5780</td>\n",
       "      <td>0.3140</td>\n",
       "      <td>0.1870</td>\n",
       "      <td>0.11500</td>\n",
       "      <td>0.07240</td>\n",
       "      <td>0.0</td>\n",
       "    </tr>\n",
       "    <tr>\n",
       "      <th>1</th>\n",
       "      <td>3</td>\n",
       "      <td>1</td>\n",
       "      <td>4.280000e+08</td>\n",
       "      <td>3.14</td>\n",
       "      <td>8.18</td>\n",
       "      <td>14.900</td>\n",
       "      <td>22.000</td>\n",
       "      <td>28.8000</td>\n",
       "      <td>34.6000</td>\n",
       "      <td>40.4000</td>\n",
       "      <td>45.6000</td>\n",
       "      <td>50.60000</td>\n",
       "      <td>55.50000</td>\n",
       "      <td>-19.6</td>\n",
       "    </tr>\n",
       "    <tr>\n",
       "      <th>2</th>\n",
       "      <td>3</td>\n",
       "      <td>2</td>\n",
       "      <td>1.000000e-30</td>\n",
       "      <td>11.90</td>\n",
       "      <td>11.80</td>\n",
       "      <td>4.350</td>\n",
       "      <td>1.770</td>\n",
       "      <td>0.7680</td>\n",
       "      <td>0.3700</td>\n",
       "      <td>0.1970</td>\n",
       "      <td>0.1140</td>\n",
       "      <td>0.06830</td>\n",
       "      <td>0.04190</td>\n",
       "      <td>0.0</td>\n",
       "    </tr>\n",
       "    <tr>\n",
       "      <th>3</th>\n",
       "      <td>4</td>\n",
       "      <td>1</td>\n",
       "      <td>1.000000e-30</td>\n",
       "      <td>1.06</td>\n",
       "      <td>1.18</td>\n",
       "      <td>0.385</td>\n",
       "      <td>0.199</td>\n",
       "      <td>0.0892</td>\n",
       "      <td>0.0409</td>\n",
       "      <td>0.0216</td>\n",
       "      <td>0.0128</td>\n",
       "      <td>0.00795</td>\n",
       "      <td>0.00501</td>\n",
       "      <td>0.0</td>\n",
       "    </tr>\n",
       "  </tbody>\n",
       "</table>\n",
       "</div>"
      ],
      "text/plain": [
       "   k  i           aki   0.01   0.22   0.489   0.817     1.22     1.71  \\\n",
       "0  2  1  1.000000e-30   1.52   6.45   4.670   2.450   1.1600   0.5780   \n",
       "1  3  1  4.280000e+08   3.14   8.18  14.900  22.000  28.8000  34.6000   \n",
       "2  3  2  1.000000e-30  11.90  11.80   4.350   1.770   0.7680   0.3700   \n",
       "3  4  1  1.000000e-30   1.06   1.18   0.385   0.199   0.0892   0.0409   \n",
       "\n",
       "       2.3     3.03      3.92       5.0   inf  \n",
       "0   0.3140   0.1870   0.11500   0.07240   0.0  \n",
       "1  40.4000  45.6000  50.60000  55.50000 -19.6  \n",
       "2   0.1970   0.1140   0.06830   0.04190   0.0  \n",
       "3   0.0216   0.0128   0.00795   0.00501   0.0  "
      ]
     },
     "execution_count": 59,
     "metadata": {},
     "output_type": "execute_result"
    }
   ],
   "source": [
    "omg"
   ]
  },
  {
   "cell_type": "markdown",
   "metadata": {},
   "source": [
    "# Excitation $1\\rightarrow2$: $\\qquad3s^2 \\,^1S \\rightarrow 3s3p \\,^3P$"
   ]
  },
  {
   "cell_type": "code",
   "execution_count": 311,
   "metadata": {},
   "outputs": [],
   "source": [
    "Eij=0.173051"
   ]
  },
  {
   "cell_type": "markdown",
   "metadata": {},
   "source": [
    "# Mapping to Burgess and Tully space:"
   ]
  },
  {
   "cell_type": "code",
   "execution_count": 312,
   "metadata": {},
   "outputs": [],
   "source": [
    "yomg=omg.loc[0][3:-1].values\n",
    "xener=np.array(ener)"
   ]
  },
  {
   "cell_type": "code",
   "execution_count": 313,
   "metadata": {},
   "outputs": [],
   "source": [
    "xx=xener/Eij\n",
    "x=xx/(xx+C)\n",
    "y=(xx+1)**2*yomg"
   ]
  },
  {
   "cell_type": "code",
   "execution_count": 314,
   "metadata": {},
   "outputs": [
    {
     "data": {
      "image/png": "[encoded data removed]",
      "text/plain": [
       "<Figure size 432x288 with 1 Axes>"
      ]
     },
     "metadata": {
      "needs_background": "light"
     },
     "output_type": "display_data"
    }
   ],
   "source": [
    "plt.plot(x,y,'o-')\n",
    "plt.show()"
   ]
  },
  {
   "cell_type": "markdown",
   "metadata": {},
   "source": [
    "## Include first point x=0:"
   ]
  },
  {
   "cell_type": "code",
   "execution_count": 315,
   "metadata": {},
   "outputs": [],
   "source": [
    "ly=list(y)\n",
    "ly.insert(0,0)\n",
    "y=np.array(ly)"
   ]
  },
  {
   "cell_type": "code",
   "execution_count": 316,
   "metadata": {},
   "outputs": [],
   "source": [
    "lx=list(x)\n",
    "lx.insert(0,0)\n",
    "x=np.array(lx)"
   ]
  },
  {
   "cell_type": "code",
   "execution_count": 317,
   "metadata": {},
   "outputs": [
    {
     "data": {
      "image/png": "[encoded data removed]",
      "text/plain": [
       "<Figure size 432x288 with 1 Axes>"
      ]
     },
     "metadata": {
      "needs_background": "light"
     },
     "output_type": "display_data"
    }
   ],
   "source": [
    "plt.plot(x,y,'o-')\n",
    "plt.show()"
   ]
  },
  {
   "cell_type": "markdown",
   "metadata": {},
   "source": [
    "## Include last point x=1 with linear interpolation"
   ]
  },
  {
   "cell_type": "code",
   "execution_count": 318,
   "metadata": {},
   "outputs": [],
   "source": [
    "lx=list(x)\n",
    "xlast=0.99\n",
    "lx.append(xlast)\n",
    "x=np.array(lx)"
   ]
  },
  {
   "cell_type": "code",
   "execution_count": 319,
   "metadata": {},
   "outputs": [],
   "source": [
    "ylast=y[-2]+(xlast-x[-2])/(x[-1]-x[-2])*(y[-1]-y[-2])"
   ]
  },
  {
   "cell_type": "code",
   "execution_count": 320,
   "metadata": {},
   "outputs": [],
   "source": [
    "ly=list(y)\n",
    "ly.append(ylast)\n",
    "y=np.array(ly)"
   ]
  },
  {
   "cell_type": "code",
   "execution_count": 321,
   "metadata": {},
   "outputs": [
    {
     "data": {
      "image/png": "[encoded data removed]",
      "text/plain": [
       "<Figure size 432x288 with 1 Axes>"
      ]
     },
     "metadata": {
      "needs_background": "light"
     },
     "output_type": "display_data"
    }
   ],
   "source": [
    "plt.plot(x,y,'o-')\n",
    "plt.show()"
   ]
  },
  {
   "cell_type": "code",
   "execution_count": null,
   "metadata": {},
   "outputs": [],
   "source": []
  },
  {
   "cell_type": "markdown",
   "metadata": {},
   "source": [
    "# Make spline in Burgess and Tully space:"
   ]
  },
  {
   "cell_type": "code",
   "execution_count": 322,
   "metadata": {},
   "outputs": [],
   "source": [
    "npts=2**10+1\n",
    "nx=len(x)\n",
    "x_new=np.linspace(x[0],x[nx-1], npts)\n",
    "y_new=interp_omg(nx,x,y,x_new,'akima')"
   ]
  },
  {
   "cell_type": "code",
   "execution_count": 323,
   "metadata": {},
   "outputs": [
    {
     "data": {
      "image/png": "[encoded data removed]",
      "text/plain": [
       "<Figure size 432x288 with 1 Axes>"
      ]
     },
     "metadata": {
      "needs_background": "light"
     },
     "output_type": "display_data"
    }
   ],
   "source": [
    "plt.plot(x,y,'ko')\n",
    "plt.plot(x_new,y_new,'r--')\n",
    "plt.show()"
   ]
  },
  {
   "cell_type": "code",
   "execution_count": null,
   "metadata": {},
   "outputs": [],
   "source": []
  },
  {
   "cell_type": "markdown",
   "metadata": {},
   "source": [
    "# Mapping back from Burgess and Tully space:"
   ]
  },
  {
   "cell_type": "code",
   "execution_count": 324,
   "metadata": {},
   "outputs": [],
   "source": [
    "enerp=x_new*C/(1-x_new)*Eij\n",
    "omgp=y_new/(enerp/Eij+1)**2"
   ]
  },
  {
   "cell_type": "code",
   "execution_count": 325,
   "metadata": {},
   "outputs": [
    {
     "data": {
      "image/png": "[encoded data removed]",
      "text/plain": [
       "<Figure size 432x288 with 1 Axes>"
      ]
     },
     "metadata": {
      "needs_background": "light"
     },
     "output_type": "display_data"
    }
   ],
   "source": [
    "plt.plot(xener,yomg,'ko')\n",
    "plt.plot(ener_new,omgint[0],'r--',label=\"interp\")\n",
    "plt.plot(enerp[0:950],omgp[0:950])\n",
    "plt.show()"
   ]
  },
  {
   "cell_type": "markdown",
   "metadata": {},
   "source": [
    "# Compute effective collision strength:"
   ]
  },
  {
   "cell_type": "code",
   "execution_count": 326,
   "metadata": {},
   "outputs": [],
   "source": [
    "yups=[]\n",
    "for i in range(ntemp):\n",
    "    kBT=kB*T[i]\n",
    "    arg=enerp*convRyd2eV/kBT\n",
    "    yint=omgp*np.exp(-arg)\n",
    "    I1=simps(yint, arg)\n",
    "    yups.append(I1)"
   ]
  },
  {
   "cell_type": "code",
   "execution_count": 327,
   "metadata": {},
   "outputs": [
    {
     "data": {
      "image/png": "[encoded data removed]",
      "text/plain": [
       "<Figure size 432x288 with 1 Axes>"
      ]
     },
     "metadata": {
      "needs_background": "light"
     },
     "output_type": "display_data"
    }
   ],
   "source": [
    "plt.plot(T,ups_prev.loc[0][3:-1],'k',label=\"adas postproc\")\n",
    "plt.plot(T,ups_curr.loc[0][3:-1],'r',label=\"simple spline\")\n",
    "plt.plot(T,yups,'g-',label=\"BT mapping\")\n",
    "plt.legend(loc='upper left',bbox_to_anchor=[1,1],fontsize=15,ncol=1)\n",
    "plt.show()"
   ]
  },
  {
   "cell_type": "code",
   "execution_count": null,
   "metadata": {},
   "outputs": [],
   "source": []
  },
  {
   "cell_type": "code",
   "execution_count": null,
   "metadata": {},
   "outputs": [],
   "source": []
  },
  {
   "cell_type": "code",
   "execution_count": 328,
   "metadata": {},
   "outputs": [
    {
     "data": {
      "text/html": [
       "<div>\n",
       "<style scoped>\n",
       "    .dataframe tbody tr th:only-of-type {\n",
       "        vertical-align: middle;\n",
       "    }\n",
       "\n",
       "    .dataframe tbody tr th {\n",
       "        vertical-align: top;\n",
       "    }\n",
       "\n",
       "    .dataframe thead th {\n",
       "        text-align: right;\n",
       "    }\n",
       "</style>\n",
       "<table border=\"1\" class=\"dataframe\">\n",
       "  <thead>\n",
       "    <tr style=\"text-align: right;\">\n",
       "      <th></th>\n",
       "      <th>k</th>\n",
       "      <th>i</th>\n",
       "      <th>aki</th>\n",
       "      <th>0.01</th>\n",
       "      <th>0.22</th>\n",
       "      <th>0.489</th>\n",
       "      <th>0.817</th>\n",
       "      <th>1.22</th>\n",
       "      <th>1.71</th>\n",
       "      <th>2.3</th>\n",
       "      <th>3.03</th>\n",
       "      <th>3.92</th>\n",
       "      <th>5.0</th>\n",
       "      <th>inf</th>\n",
       "    </tr>\n",
       "  </thead>\n",
       "  <tbody>\n",
       "    <tr>\n",
       "      <th>0</th>\n",
       "      <td>2</td>\n",
       "      <td>1</td>\n",
       "      <td>1.000000e-30</td>\n",
       "      <td>1.52</td>\n",
       "      <td>6.45</td>\n",
       "      <td>4.670</td>\n",
       "      <td>2.450</td>\n",
       "      <td>1.1600</td>\n",
       "      <td>0.5780</td>\n",
       "      <td>0.3140</td>\n",
       "      <td>0.1870</td>\n",
       "      <td>0.11500</td>\n",
       "      <td>0.07240</td>\n",
       "      <td>0.0</td>\n",
       "    </tr>\n",
       "    <tr>\n",
       "      <th>1</th>\n",
       "      <td>3</td>\n",
       "      <td>1</td>\n",
       "      <td>4.280000e+08</td>\n",
       "      <td>3.14</td>\n",
       "      <td>8.18</td>\n",
       "      <td>14.900</td>\n",
       "      <td>22.000</td>\n",
       "      <td>28.8000</td>\n",
       "      <td>34.6000</td>\n",
       "      <td>40.4000</td>\n",
       "      <td>45.6000</td>\n",
       "      <td>50.60000</td>\n",
       "      <td>55.50000</td>\n",
       "      <td>-19.6</td>\n",
       "    </tr>\n",
       "    <tr>\n",
       "      <th>2</th>\n",
       "      <td>3</td>\n",
       "      <td>2</td>\n",
       "      <td>1.000000e-30</td>\n",
       "      <td>11.90</td>\n",
       "      <td>11.80</td>\n",
       "      <td>4.350</td>\n",
       "      <td>1.770</td>\n",
       "      <td>0.7680</td>\n",
       "      <td>0.3700</td>\n",
       "      <td>0.1970</td>\n",
       "      <td>0.1140</td>\n",
       "      <td>0.06830</td>\n",
       "      <td>0.04190</td>\n",
       "      <td>0.0</td>\n",
       "    </tr>\n",
       "    <tr>\n",
       "      <th>3</th>\n",
       "      <td>4</td>\n",
       "      <td>1</td>\n",
       "      <td>1.000000e-30</td>\n",
       "      <td>1.06</td>\n",
       "      <td>1.18</td>\n",
       "      <td>0.385</td>\n",
       "      <td>0.199</td>\n",
       "      <td>0.0892</td>\n",
       "      <td>0.0409</td>\n",
       "      <td>0.0216</td>\n",
       "      <td>0.0128</td>\n",
       "      <td>0.00795</td>\n",
       "      <td>0.00501</td>\n",
       "      <td>0.0</td>\n",
       "    </tr>\n",
       "  </tbody>\n",
       "</table>\n",
       "</div>"
      ],
      "text/plain": [
       "   k  i           aki   0.01   0.22   0.489   0.817     1.22     1.71  \\\n",
       "0  2  1  1.000000e-30   1.52   6.45   4.670   2.450   1.1600   0.5780   \n",
       "1  3  1  4.280000e+08   3.14   8.18  14.900  22.000  28.8000  34.6000   \n",
       "2  3  2  1.000000e-30  11.90  11.80   4.350   1.770   0.7680   0.3700   \n",
       "3  4  1  1.000000e-30   1.06   1.18   0.385   0.199   0.0892   0.0409   \n",
       "\n",
       "       2.3     3.03      3.92       5.0   inf  \n",
       "0   0.3140   0.1870   0.11500   0.07240   0.0  \n",
       "1  40.4000  45.6000  50.60000  55.50000 -19.6  \n",
       "2   0.1970   0.1140   0.06830   0.04190   0.0  \n",
       "3   0.0216   0.0128   0.00795   0.00501   0.0  "
      ]
     },
     "execution_count": 328,
     "metadata": {},
     "output_type": "execute_result"
    }
   ],
   "source": [
    "omg"
   ]
  },
  {
   "cell_type": "markdown",
   "metadata": {},
   "source": [
    "# Excitation $2\\rightarrow3$: $\\qquad 3s3p \\,^3P \\rightarrow 3s3p \\,^1P$"
   ]
  },
  {
   "cell_type": "code",
   "execution_count": 329,
   "metadata": {},
   "outputs": [],
   "source": [
    "Eij=0.336430-0.173051"
   ]
  },
  {
   "cell_type": "code",
   "execution_count": 330,
   "metadata": {},
   "outputs": [
    {
     "data": {
      "text/plain": [
       "0.163379"
      ]
     },
     "execution_count": 330,
     "metadata": {},
     "output_type": "execute_result"
    }
   ],
   "source": [
    "Eij"
   ]
  },
  {
   "cell_type": "markdown",
   "metadata": {},
   "source": [
    "# Mapping to Burgess and Tully space:"
   ]
  },
  {
   "cell_type": "code",
   "execution_count": 331,
   "metadata": {},
   "outputs": [],
   "source": [
    "yomg=omg.loc[2][3:-1].values\n",
    "xener=np.array(ener)"
   ]
  },
  {
   "cell_type": "code",
   "execution_count": 332,
   "metadata": {},
   "outputs": [],
   "source": [
    "xx=xener/Eij\n",
    "x=xx/(xx+C)\n",
    "y=(xx+1)**2*yomg"
   ]
  },
  {
   "cell_type": "code",
   "execution_count": 333,
   "metadata": {},
   "outputs": [
    {
     "data": {
      "image/png": "[encoded data removed]",
      "text/plain": [
       "<Figure size 432x288 with 1 Axes>"
      ]
     },
     "metadata": {
      "needs_background": "light"
     },
     "output_type": "display_data"
    }
   ],
   "source": [
    "plt.plot(x,y,'o-')\n",
    "plt.show()"
   ]
  },
  {
   "cell_type": "markdown",
   "metadata": {},
   "source": [
    "## Include first point x=0:"
   ]
  },
  {
   "cell_type": "code",
   "execution_count": 334,
   "metadata": {},
   "outputs": [],
   "source": [
    "ly=list(y)\n",
    "ly.insert(0,0)\n",
    "y=np.array(ly)"
   ]
  },
  {
   "cell_type": "code",
   "execution_count": 335,
   "metadata": {},
   "outputs": [],
   "source": [
    "lx=list(x)\n",
    "lx.insert(0,0)\n",
    "x=np.array(lx)"
   ]
  },
  {
   "cell_type": "code",
   "execution_count": 336,
   "metadata": {},
   "outputs": [
    {
     "data": {
      "image/png": "[encoded data removed]",
      "text/plain": [
       "<Figure size 432x288 with 1 Axes>"
      ]
     },
     "metadata": {
      "needs_background": "light"
     },
     "output_type": "display_data"
    }
   ],
   "source": [
    "plt.plot(x,y,'o-')\n",
    "plt.show()"
   ]
  },
  {
   "cell_type": "markdown",
   "metadata": {},
   "source": [
    "## Include last point x=1 with linear interpolation"
   ]
  },
  {
   "cell_type": "code",
   "execution_count": 337,
   "metadata": {},
   "outputs": [],
   "source": [
    "lx=list(x)\n",
    "xlast=0.99\n",
    "lx.append(xlast)\n",
    "x=np.array(lx)"
   ]
  },
  {
   "cell_type": "code",
   "execution_count": 338,
   "metadata": {},
   "outputs": [],
   "source": [
    "ylast=y[-2]+(xlast-x[-2])/(x[-1]-x[-2])*(y[-1]-y[-2])"
   ]
  },
  {
   "cell_type": "code",
   "execution_count": 339,
   "metadata": {},
   "outputs": [],
   "source": [
    "ly=list(y)\n",
    "ly.append(ylast)\n",
    "y=np.array(ly)"
   ]
  },
  {
   "cell_type": "code",
   "execution_count": 340,
   "metadata": {},
   "outputs": [
    {
     "data": {
      "image/png": "[encoded data removed]",
      "text/plain": [
       "<Figure size 432x288 with 1 Axes>"
      ]
     },
     "metadata": {
      "needs_background": "light"
     },
     "output_type": "display_data"
    }
   ],
   "source": [
    "plt.plot(x,y,'o-')\n",
    "plt.show()"
   ]
  },
  {
   "cell_type": "code",
   "execution_count": null,
   "metadata": {},
   "outputs": [],
   "source": []
  },
  {
   "cell_type": "markdown",
   "metadata": {},
   "source": [
    "# Make spline in Burgess and Tully space:"
   ]
  },
  {
   "cell_type": "code",
   "execution_count": 341,
   "metadata": {},
   "outputs": [],
   "source": [
    "npts=2**10+1\n",
    "nx=len(x)\n",
    "x_new=np.linspace(x[0],x[nx-1], npts)\n",
    "y_new=interp_omg(nx,x,y,x_new,'akima')"
   ]
  },
  {
   "cell_type": "code",
   "execution_count": 342,
   "metadata": {},
   "outputs": [
    {
     "data": {
      "image/png": "[encoded data removed]",
      "text/plain": [
       "<Figure size 432x288 with 1 Axes>"
      ]
     },
     "metadata": {
      "needs_background": "light"
     },
     "output_type": "display_data"
    }
   ],
   "source": [
    "plt.plot(x,y,'ko')\n",
    "plt.plot(x_new,y_new,'r--')\n",
    "plt.show()"
   ]
  },
  {
   "cell_type": "code",
   "execution_count": null,
   "metadata": {},
   "outputs": [],
   "source": []
  },
  {
   "cell_type": "markdown",
   "metadata": {},
   "source": [
    "# Mapping back from Burgess and Tully space:"
   ]
  },
  {
   "cell_type": "code",
   "execution_count": 343,
   "metadata": {},
   "outputs": [],
   "source": [
    "enerp=x_new*C/(1-x_new)*Eij\n",
    "omgp=y_new/(enerp/Eij+1)**2"
   ]
  },
  {
   "cell_type": "code",
   "execution_count": 344,
   "metadata": {},
   "outputs": [
    {
     "data": {
      "image/png": "[encoded data removed]",
      "text/plain": [
       "<Figure size 432x288 with 1 Axes>"
      ]
     },
     "metadata": {
      "needs_background": "light"
     },
     "output_type": "display_data"
    }
   ],
   "source": [
    "plt.plot(xener,yomg,'ko')\n",
    "plt.plot(ener_new,omgint[2],'r--',label=\"interp\")\n",
    "plt.plot(enerp[0:950],omgp[0:950])\n",
    "plt.show()"
   ]
  },
  {
   "cell_type": "markdown",
   "metadata": {},
   "source": [
    "# Compute effective collision strength:"
   ]
  },
  {
   "cell_type": "code",
   "execution_count": 345,
   "metadata": {},
   "outputs": [],
   "source": [
    "yups=[]\n",
    "for i in range(ntemp):\n",
    "    kBT=kB*T[i]\n",
    "    arg=enerp*convRyd2eV/kBT\n",
    "    yint=omgp*np.exp(-arg)\n",
    "    I1=simps(yint, arg)\n",
    "    yups.append(I1)"
   ]
  },
  {
   "cell_type": "code",
   "execution_count": 346,
   "metadata": {
    "scrolled": true
   },
   "outputs": [
    {
     "data": {
      "image/png": "[encoded data removed]",
      "text/plain": [
       "<Figure size 432x288 with 1 Axes>"
      ]
     },
     "metadata": {
      "needs_background": "light"
     },
     "output_type": "display_data"
    }
   ],
   "source": [
    "plt.plot(T,ups_prev.loc[2][3:-1],'k-',label=\"adas postproc\")\n",
    "plt.plot(T,ups_curr.loc[2][3:-1],'r-',label=\"simple spline\")\n",
    "plt.plot(T,yups,'g-',label=\"BT mapping\")\n",
    "plt.legend(loc='upper left',bbox_to_anchor=[1,1],fontsize=15,ncol=1)\n",
    "plt.show()"
   ]
  },
  {
   "cell_type": "code",
   "execution_count": null,
   "metadata": {},
   "outputs": [],
   "source": []
  },
  {
   "cell_type": "code",
   "execution_count": null,
   "metadata": {},
   "outputs": [],
   "source": []
  },
  {
   "cell_type": "code",
   "execution_count": null,
   "metadata": {},
   "outputs": [],
   "source": []
  },
  {
   "cell_type": "code",
   "execution_count": 347,
   "metadata": {},
   "outputs": [
    {
     "data": {
      "text/html": [
       "<div>\n",
       "<style scoped>\n",
       "    .dataframe tbody tr th:only-of-type {\n",
       "        vertical-align: middle;\n",
       "    }\n",
       "\n",
       "    .dataframe tbody tr th {\n",
       "        vertical-align: top;\n",
       "    }\n",
       "\n",
       "    .dataframe thead th {\n",
       "        text-align: right;\n",
       "    }\n",
       "</style>\n",
       "<table border=\"1\" class=\"dataframe\">\n",
       "  <thead>\n",
       "    <tr style=\"text-align: right;\">\n",
       "      <th></th>\n",
       "      <th>k</th>\n",
       "      <th>i</th>\n",
       "      <th>aki</th>\n",
       "      <th>0.01</th>\n",
       "      <th>0.22</th>\n",
       "      <th>0.489</th>\n",
       "      <th>0.817</th>\n",
       "      <th>1.22</th>\n",
       "      <th>1.71</th>\n",
       "      <th>2.3</th>\n",
       "      <th>3.03</th>\n",
       "      <th>3.92</th>\n",
       "      <th>5.0</th>\n",
       "      <th>inf</th>\n",
       "    </tr>\n",
       "  </thead>\n",
       "  <tbody>\n",
       "    <tr>\n",
       "      <th>0</th>\n",
       "      <td>2</td>\n",
       "      <td>1</td>\n",
       "      <td>1.000000e-30</td>\n",
       "      <td>1.52</td>\n",
       "      <td>6.45</td>\n",
       "      <td>4.670</td>\n",
       "      <td>2.450</td>\n",
       "      <td>1.1600</td>\n",
       "      <td>0.5780</td>\n",
       "      <td>0.3140</td>\n",
       "      <td>0.1870</td>\n",
       "      <td>0.11500</td>\n",
       "      <td>0.07240</td>\n",
       "      <td>0.0</td>\n",
       "    </tr>\n",
       "    <tr>\n",
       "      <th>1</th>\n",
       "      <td>3</td>\n",
       "      <td>1</td>\n",
       "      <td>4.280000e+08</td>\n",
       "      <td>3.14</td>\n",
       "      <td>8.18</td>\n",
       "      <td>14.900</td>\n",
       "      <td>22.000</td>\n",
       "      <td>28.8000</td>\n",
       "      <td>34.6000</td>\n",
       "      <td>40.4000</td>\n",
       "      <td>45.6000</td>\n",
       "      <td>50.60000</td>\n",
       "      <td>55.50000</td>\n",
       "      <td>-19.6</td>\n",
       "    </tr>\n",
       "    <tr>\n",
       "      <th>2</th>\n",
       "      <td>3</td>\n",
       "      <td>2</td>\n",
       "      <td>1.000000e-30</td>\n",
       "      <td>11.90</td>\n",
       "      <td>11.80</td>\n",
       "      <td>4.350</td>\n",
       "      <td>1.770</td>\n",
       "      <td>0.7680</td>\n",
       "      <td>0.3700</td>\n",
       "      <td>0.1970</td>\n",
       "      <td>0.1140</td>\n",
       "      <td>0.06830</td>\n",
       "      <td>0.04190</td>\n",
       "      <td>0.0</td>\n",
       "    </tr>\n",
       "    <tr>\n",
       "      <th>3</th>\n",
       "      <td>4</td>\n",
       "      <td>1</td>\n",
       "      <td>1.000000e-30</td>\n",
       "      <td>1.06</td>\n",
       "      <td>1.18</td>\n",
       "      <td>0.385</td>\n",
       "      <td>0.199</td>\n",
       "      <td>0.0892</td>\n",
       "      <td>0.0409</td>\n",
       "      <td>0.0216</td>\n",
       "      <td>0.0128</td>\n",
       "      <td>0.00795</td>\n",
       "      <td>0.00501</td>\n",
       "      <td>0.0</td>\n",
       "    </tr>\n",
       "  </tbody>\n",
       "</table>\n",
       "</div>"
      ],
      "text/plain": [
       "   k  i           aki   0.01   0.22   0.489   0.817     1.22     1.71  \\\n",
       "0  2  1  1.000000e-30   1.52   6.45   4.670   2.450   1.1600   0.5780   \n",
       "1  3  1  4.280000e+08   3.14   8.18  14.900  22.000  28.8000  34.6000   \n",
       "2  3  2  1.000000e-30  11.90  11.80   4.350   1.770   0.7680   0.3700   \n",
       "3  4  1  1.000000e-30   1.06   1.18   0.385   0.199   0.0892   0.0409   \n",
       "\n",
       "       2.3     3.03      3.92       5.0   inf  \n",
       "0   0.3140   0.1870   0.11500   0.07240   0.0  \n",
       "1  40.4000  45.6000  50.60000  55.50000 -19.6  \n",
       "2   0.1970   0.1140   0.06830   0.04190   0.0  \n",
       "3   0.0216   0.0128   0.00795   0.00501   0.0  "
      ]
     },
     "execution_count": 347,
     "metadata": {},
     "output_type": "execute_result"
    }
   ],
   "source": [
    "omg"
   ]
  },
  {
   "cell_type": "markdown",
   "metadata": {},
   "source": [
    "# Excitation $1\\rightarrow4$: $\\qquad 3s^2 \\,^1S \\rightarrow 3s4s \\,^3S$"
   ]
  },
  {
   "cell_type": "code",
   "execution_count": 348,
   "metadata": {},
   "outputs": [],
   "source": [
    "Eij=0.346630"
   ]
  },
  {
   "cell_type": "code",
   "execution_count": null,
   "metadata": {},
   "outputs": [],
   "source": []
  },
  {
   "cell_type": "markdown",
   "metadata": {},
   "source": [
    "# Mapping to Burgess and Tully space:"
   ]
  },
  {
   "cell_type": "code",
   "execution_count": 376,
   "metadata": {},
   "outputs": [],
   "source": [
    "yomg=omg.loc[3][3:-1].values\n",
    "xener=np.array(ener)"
   ]
  },
  {
   "cell_type": "code",
   "execution_count": 377,
   "metadata": {},
   "outputs": [],
   "source": [
    "xx=xener/Eij\n",
    "x=xx/(xx+C)\n",
    "y=(xx+1)**2*yomg"
   ]
  },
  {
   "cell_type": "code",
   "execution_count": 378,
   "metadata": {},
   "outputs": [
    {
     "data": {
      "image/png": "[encoded data removed]",
      "text/plain": [
       "<Figure size 432x288 with 1 Axes>"
      ]
     },
     "metadata": {
      "needs_background": "light"
     },
     "output_type": "display_data"
    }
   ],
   "source": [
    "plt.plot(x,y,'o-')\n",
    "plt.show()"
   ]
  },
  {
   "cell_type": "markdown",
   "metadata": {},
   "source": [
    "## Include first point x=0:"
   ]
  },
  {
   "cell_type": "code",
   "execution_count": 379,
   "metadata": {},
   "outputs": [],
   "source": [
    "ly=list(y)\n",
    "ly.insert(0,0)\n",
    "y=np.array(ly)"
   ]
  },
  {
   "cell_type": "code",
   "execution_count": 380,
   "metadata": {},
   "outputs": [],
   "source": [
    "lx=list(x)\n",
    "lx.insert(0,0)\n",
    "x=np.array(lx)"
   ]
  },
  {
   "cell_type": "code",
   "execution_count": 381,
   "metadata": {},
   "outputs": [
    {
     "data": {
      "image/png": "[encoded data removed]",
      "text/plain": [
       "<Figure size 432x288 with 1 Axes>"
      ]
     },
     "metadata": {
      "needs_background": "light"
     },
     "output_type": "display_data"
    }
   ],
   "source": [
    "plt.plot(x,y,'o-')\n",
    "plt.show()"
   ]
  },
  {
   "cell_type": "markdown",
   "metadata": {},
   "source": [
    "## Include last point x=1 with linear interpolation"
   ]
  },
  {
   "cell_type": "code",
   "execution_count": 382,
   "metadata": {},
   "outputs": [],
   "source": [
    "lx=list(x)\n",
    "xlast=0.99\n",
    "lx.append(xlast)\n",
    "x=np.array(lx)"
   ]
  },
  {
   "cell_type": "code",
   "execution_count": 383,
   "metadata": {},
   "outputs": [],
   "source": [
    "ylast=y[-2]+(xlast-x[-2])/(x[-1]-x[-2])*(y[-1]-y[-2])"
   ]
  },
  {
   "cell_type": "code",
   "execution_count": 384,
   "metadata": {},
   "outputs": [],
   "source": [
    "ly=list(y)\n",
    "ly.append(ylast)\n",
    "y=np.array(ly)"
   ]
  },
  {
   "cell_type": "code",
   "execution_count": 385,
   "metadata": {},
   "outputs": [
    {
     "data": {
      "image/png": "[encoded data removed]",
      "text/plain": [
       "<Figure size 432x288 with 1 Axes>"
      ]
     },
     "metadata": {
      "needs_background": "light"
     },
     "output_type": "display_data"
    }
   ],
   "source": [
    "plt.plot(x,y,'o-')\n",
    "plt.show()"
   ]
  },
  {
   "cell_type": "code",
   "execution_count": null,
   "metadata": {},
   "outputs": [],
   "source": []
  },
  {
   "cell_type": "markdown",
   "metadata": {},
   "source": [
    "# Make spline in Burgess and Tully space:"
   ]
  },
  {
   "cell_type": "code",
   "execution_count": 386,
   "metadata": {},
   "outputs": [],
   "source": [
    "npts=2**10+1\n",
    "nx=len(x)\n",
    "x_new=np.linspace(x[0],x[nx-1], npts)\n",
    "y_new=interp_omg(nx,x,y,x_new,'akima')"
   ]
  },
  {
   "cell_type": "code",
   "execution_count": 387,
   "metadata": {},
   "outputs": [
    {
     "data": {
      "image/png": "[encoded data removed]",
      "text/plain": [
       "<Figure size 432x288 with 1 Axes>"
      ]
     },
     "metadata": {
      "needs_background": "light"
     },
     "output_type": "display_data"
    }
   ],
   "source": [
    "plt.plot(x,y,'ko')\n",
    "plt.plot(x_new,y_new,'r--')\n",
    "plt.show()"
   ]
  },
  {
   "cell_type": "code",
   "execution_count": null,
   "metadata": {},
   "outputs": [],
   "source": []
  },
  {
   "cell_type": "markdown",
   "metadata": {},
   "source": [
    "# Mapping back from Burgess and Tully space:"
   ]
  },
  {
   "cell_type": "code",
   "execution_count": 388,
   "metadata": {},
   "outputs": [],
   "source": [
    "enerp=x_new*C/(1-x_new)*Eij\n",
    "omgp=y_new/(enerp/Eij+1)**2"
   ]
  },
  {
   "cell_type": "code",
   "execution_count": 390,
   "metadata": {},
   "outputs": [
    {
     "data": {
      "image/png": "[encoded data removed]",
      "text/plain": [
       "<Figure size 432x288 with 1 Axes>"
      ]
     },
     "metadata": {
      "needs_background": "light"
     },
     "output_type": "display_data"
    }
   ],
   "source": [
    "plt.plot(xener,yomg,'ko')\n",
    "#plt.plot(ener_new,omgint[3],'r--',label=\"interp\")\n",
    "plt.plot(enerp[0:950],omgp[0:950])\n",
    "plt.show()"
   ]
  },
  {
   "cell_type": "markdown",
   "metadata": {},
   "source": [
    "# Compute effective collision strength:"
   ]
  },
  {
   "cell_type": "code",
   "execution_count": 391,
   "metadata": {},
   "outputs": [],
   "source": [
    "yups=[]\n",
    "for i in range(ntemp):\n",
    "    kBT=kB*T[i]\n",
    "    arg=enerp*convRyd2eV/kBT\n",
    "    yint=omgp*np.exp(-arg)\n",
    "    I1=simps(yint, arg)\n",
    "    yups.append(I1)"
   ]
  },
  {
   "cell_type": "code",
   "execution_count": 393,
   "metadata": {
    "scrolled": true
   },
   "outputs": [
    {
     "data": {
      "image/png": "[encoded data removed]",
      "text/plain": [
       "<Figure size 432x288 with 1 Axes>"
      ]
     },
     "metadata": {
      "needs_background": "light"
     },
     "output_type": "display_data"
    }
   ],
   "source": [
    "plt.plot(T,ups_prev.loc[3][3:-1],'k-',label=\"adas postproc\")\n",
    "plt.plot(T,ups_curr.loc[3][3:-1],'r-',label=\"simple spline\")\n",
    "plt.plot(T,yups,'g-',label=\"BT mapping\")\n",
    "plt.legend(loc='upper left',bbox_to_anchor=[1,1],fontsize=15,ncol=1)\n",
    "plt.show()"
   ]
  },
  {
   "cell_type": "code",
   "execution_count": 374,
   "metadata": {},
   "outputs": [
    {
     "data": {
      "text/html": [
       "<div>\n",
       "<style scoped>\n",
       "    .dataframe tbody tr th:only-of-type {\n",
       "        vertical-align: middle;\n",
       "    }\n",
       "\n",
       "    .dataframe tbody tr th {\n",
       "        vertical-align: top;\n",
       "    }\n",
       "\n",
       "    .dataframe thead th {\n",
       "        text-align: right;\n",
       "    }\n",
       "</style>\n",
       "<table border=\"1\" class=\"dataframe\">\n",
       "  <thead>\n",
       "    <tr style=\"text-align: right;\">\n",
       "      <th></th>\n",
       "      <th>k</th>\n",
       "      <th>i</th>\n",
       "      <th>aki</th>\n",
       "      <th>3000.0</th>\n",
       "      <th>4000.0</th>\n",
       "      <th>5000.0</th>\n",
       "      <th>6000.0</th>\n",
       "      <th>7000.0</th>\n",
       "      <th>8000.0</th>\n",
       "      <th>9000.0</th>\n",
       "      <th>10000.0</th>\n",
       "      <th>11000.0</th>\n",
       "      <th>12000.0</th>\n",
       "      <th>13000.0</th>\n",
       "      <th>14000.0</th>\n",
       "      <th>15000.0</th>\n",
       "      <th>16000.0</th>\n",
       "      <th>inf</th>\n",
       "    </tr>\n",
       "  </thead>\n",
       "  <tbody>\n",
       "    <tr>\n",
       "      <th>0</th>\n",
       "      <td>2</td>\n",
       "      <td>1</td>\n",
       "      <td>1.000000e-30</td>\n",
       "      <td>1.321916</td>\n",
       "      <td>1.659166</td>\n",
       "      <td>1.950515</td>\n",
       "      <td>2.208679</td>\n",
       "      <td>2.440010</td>\n",
       "      <td>2.648290</td>\n",
       "      <td>2.836190</td>\n",
       "      <td>3.005845</td>\n",
       "      <td>3.159078</td>\n",
       "      <td>3.297494</td>\n",
       "      <td>3.422529</td>\n",
       "      <td>3.535463</td>\n",
       "      <td>3.637447</td>\n",
       "      <td>3.729510</td>\n",
       "      <td>0.0</td>\n",
       "    </tr>\n",
       "    <tr>\n",
       "      <th>1</th>\n",
       "      <td>3</td>\n",
       "      <td>1</td>\n",
       "      <td>4.280000e+08</td>\n",
       "      <td>2.120409</td>\n",
       "      <td>2.520037</td>\n",
       "      <td>2.837118</td>\n",
       "      <td>3.106725</td>\n",
       "      <td>3.346751</td>\n",
       "      <td>3.567195</td>\n",
       "      <td>3.774060</td>\n",
       "      <td>3.971150</td>\n",
       "      <td>4.160985</td>\n",
       "      <td>4.345287</td>\n",
       "      <td>4.525268</td>\n",
       "      <td>4.701797</td>\n",
       "      <td>4.875506</td>\n",
       "      <td>5.046866</td>\n",
       "      <td>-19.6</td>\n",
       "    </tr>\n",
       "    <tr>\n",
       "      <th>2</th>\n",
       "      <td>3</td>\n",
       "      <td>2</td>\n",
       "      <td>1.000000e-30</td>\n",
       "      <td>7.153521</td>\n",
       "      <td>8.192866</td>\n",
       "      <td>8.894395</td>\n",
       "      <td>9.396668</td>\n",
       "      <td>9.770049</td>\n",
       "      <td>10.053842</td>\n",
       "      <td>10.271816</td>\n",
       "      <td>10.439346</td>\n",
       "      <td>10.566976</td>\n",
       "      <td>10.662299</td>\n",
       "      <td>10.731013</td>\n",
       "      <td>10.777542</td>\n",
       "      <td>10.805406</td>\n",
       "      <td>10.817466</td>\n",
       "      <td>0.0</td>\n",
       "    </tr>\n",
       "    <tr>\n",
       "      <th>3</th>\n",
       "      <td>4</td>\n",
       "      <td>1</td>\n",
       "      <td>1.000000e-30</td>\n",
       "      <td>0.649382</td>\n",
       "      <td>0.747794</td>\n",
       "      <td>0.815907</td>\n",
       "      <td>0.865940</td>\n",
       "      <td>0.904099</td>\n",
       "      <td>0.933851</td>\n",
       "      <td>0.957304</td>\n",
       "      <td>0.975833</td>\n",
       "      <td>0.990394</td>\n",
       "      <td>1.001691</td>\n",
       "      <td>1.010260</td>\n",
       "      <td>1.016527</td>\n",
       "      <td>1.020837</td>\n",
       "      <td>1.023477</td>\n",
       "      <td>0.0</td>\n",
       "    </tr>\n",
       "  </tbody>\n",
       "</table>\n",
       "</div>"
      ],
      "text/plain": [
       "   k  i           aki    3000.0    4000.0    5000.0    6000.0    7000.0  \\\n",
       "0  2  1  1.000000e-30  1.321916  1.659166  1.950515  2.208679  2.440010   \n",
       "1  3  1  4.280000e+08  2.120409  2.520037  2.837118  3.106725  3.346751   \n",
       "2  3  2  1.000000e-30  7.153521  8.192866  8.894395  9.396668  9.770049   \n",
       "3  4  1  1.000000e-30  0.649382  0.747794  0.815907  0.865940  0.904099   \n",
       "\n",
       "      8000.0     9000.0    10000.0    11000.0    12000.0    13000.0  \\\n",
       "0   2.648290   2.836190   3.005845   3.159078   3.297494   3.422529   \n",
       "1   3.567195   3.774060   3.971150   4.160985   4.345287   4.525268   \n",
       "2  10.053842  10.271816  10.439346  10.566976  10.662299  10.731013   \n",
       "3   0.933851   0.957304   0.975833   0.990394   1.001691   1.010260   \n",
       "\n",
       "     14000.0    15000.0    16000.0   inf  \n",
       "0   3.535463   3.637447   3.729510   0.0  \n",
       "1   4.701797   4.875506   5.046866 -19.6  \n",
       "2  10.777542  10.805406  10.817466   0.0  \n",
       "3   1.016527   1.020837   1.023477   0.0  "
      ]
     },
     "execution_count": 374,
     "metadata": {},
     "output_type": "execute_result"
    }
   ],
   "source": [
    "ups_curr"
   ]
  },
  {
   "cell_type": "code",
   "execution_count": null,
   "metadata": {},
   "outputs": [],
   "source": []
  }
 ],
 "metadata": {
  "kernelspec": {
   "display_name": "Python 3",
   "language": "python",
   "name": "python3"
  },
  "language_info": {
   "codemirror_mode": {
    "name": "ipython",
    "version": 3
   },
   "file_extension": ".py",
   "mimetype": "text/x-python",
   "name": "python",
   "nbconvert_exporter": "python",
   "pygments_lexer": "ipython3",
   "version": "3.7.3"
  }
 },
 "nbformat": 4,
 "nbformat_minor": 2
}
